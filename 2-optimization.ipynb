{
 "cells": [
  {
   "cell_type": "markdown",
   "id": "ccc6d671-7268-47b8-9004-d4ac265f7f1c",
   "metadata": {},
   "source": [
    "# Algoritmos Heurísticos e Mta-Heurísticas para Problemas de Otimização\n",
    "\n",
    "Implementação de heurísticas para resolução de problema de escalonamento."
   ]
  },
  {
   "cell_type": "markdown",
   "id": "35891183-1d8d-4a9d-9479-40c75be056a8",
   "metadata": {},
   "source": [
    "# Problema de Escalonamento em Máquinas Paralelas (PEMP)\n",
    "\n",
    "Problemas onde há uma quantidade de tarefas a serem processadas pelas máquinas. Cada tarefa precisa ser processada uma única vez, e pode ser processada em qualquer máquina.\n",
    "\n",
    "![pmsp](./figures_2/pmsp.png)"
   ]
  },
  {
   "cell_type": "markdown",
   "id": "69c2c532-5f1b-4aff-9f64-efb392dd29e3",
   "metadata": {
    "tags": []
   },
   "source": [
    "## Representação da solução\n",
    "\n",
    "Para garantir o sucesso e facilitar a implementação de uma heurística, a escolha da representação da solução desempenha um papel fundamental. No contexto do Problema de Escalonamento em Máquinas Paralelas (PEMP) abordado aqui, a solução pode ser adequadamente representada por meio de um vetor. Nesse vetor, cada posição representa uma tarefa, e o valor contido em cada posição indica a máquina sugerida para alocar essa tarefa. \n",
    "\n",
    "Por exemplo:\n",
    "\n",
    "\\begin{bmatrix}\n",
    "    1 & 0 & 0 & 1 & 0\n",
    "\\end{bmatrix}\n",
    "\n",
    "Representa a solução \n",
    "\n",
    "![](./figures_2/pmsp_solution.png)\n",
    "\n",
    "<font color='red'> OBS: Para o presente problema, não faz diferença a ordem de processamento das tarefas, apenas em qual máquina elas estão alocadas. </font>"
   ]
  },
  {
   "cell_type": "markdown",
   "id": "91de651d-9c66-4bfa-8cef-95c3346756a9",
   "metadata": {
    "tags": []
   },
   "source": [
    "## Geração de instância aleatória\n",
    "\n",
    "Desenvolva um algoritmo capaz de gerar uma matriz aleatória que represente a duração do processamento $p_{ij}$ de cada uma das $i$ tarefas em relação a cada uma das $j$ máquinas, com base nas quantidades especificadas de tarefas e máquinas.\n",
    "\n",
    "Para facilitar a compreensão, consideremos o exemplo da matriz abaixo, onde $p_{32}$ representa o tempo de processamento da tarefa $3$ na máquina $2$ e tem o valor de $20$ unidades de tempo:\n",
    "\n",
    "\\begin{align}\n",
    "\\begin{bmatrix}\n",
    "8 & 10 \\\\\n",
    "9 & 11 \\\\\n",
    "5 & 20\n",
    "\\end{bmatrix}\n",
    "\\end{align}\n",
    "\n",
    "Você pode utilizar a função `np.random.randint` para criar essa matriz, sendo o intervalo utilizado $[5, 20)$ para gerar a duração das tarefas."
   ]
  },
  {
   "cell_type": "code",
   "execution_count": null,
   "id": "349f428d-cd5f-41d6-850f-eb902def0512",
   "metadata": {},
   "outputs": [],
   "source": []
  },
  {
   "cell_type": "markdown",
   "id": "5822257e-69ab-4797-96ec-7e672b6896d7",
   "metadata": {},
   "source": [
    "## Criação de Instância \n",
    "\n",
    "Crie uma classe que armazene os dados da instância para ser utilizado em funções."
   ]
  },
  {
   "cell_type": "code",
   "execution_count": null,
   "id": "54ebefbd-078e-4b87-975c-3b19f89b4418",
   "metadata": {},
   "outputs": [],
   "source": []
  },
  {
   "cell_type": "markdown",
   "id": "f49b08c7-d0a5-4daa-bea1-5ae7db92413f",
   "metadata": {
    "tags": []
   },
   "source": [
    "## Funções para soluções\n",
    "\n",
    "Declare funções que:\n",
    "- Gere solução vazia `gerar_solucao_vazia(instancia)`\n",
    "- Gere solução aleatória `gerar_solucao_aleatoria(instancia)`\n",
    "- Copie uma solução para outra já declarada `copiar_solucao(solucao_destino, solucao_origem)`"
   ]
  },
  {
   "cell_type": "code",
   "execution_count": null,
   "id": "51b622a5-0c88-48f1-9fc6-ec399748787e",
   "metadata": {},
   "outputs": [],
   "source": []
  },
  {
   "cell_type": "code",
   "execution_count": null,
   "id": "e4ff6dd2-2bbd-4cc5-b733-f4c0bd09b748",
   "metadata": {},
   "outputs": [],
   "source": []
  },
  {
   "cell_type": "code",
   "execution_count": null,
   "id": "e1912637-8c58-4d50-a4f9-c129bffe5069",
   "metadata": {},
   "outputs": [],
   "source": []
  },
  {
   "cell_type": "code",
   "execution_count": null,
   "id": "3cea7619-5873-4bef-98af-771bd3e464a3",
   "metadata": {},
   "outputs": [],
   "source": []
  },
  {
   "cell_type": "markdown",
   "id": "3f68d6a7-c157-49a9-bf30-f13f1b02d37d",
   "metadata": {},
   "source": [
    "## Objetivo: minimizar o somatório das durações\n",
    "\n",
    "Implemente um código para calcular a função objetivo. Sugestão: utilize as funções `enumerate` e `sum`.\n",
    "\n",
    "<!-- `enumerate` `sum` -->"
   ]
  },
  {
   "cell_type": "code",
   "execution_count": null,
   "id": "565ea774-d3b1-447c-93ed-837bdc6189ef",
   "metadata": {},
   "outputs": [],
   "source": []
  },
  {
   "cell_type": "markdown",
   "id": "1655b002-e669-4039-a46e-e875d0fac0fd",
   "metadata": {},
   "source": [
    "## 1. Simulated Annealing (SA)"
   ]
  },
  {
   "cell_type": "markdown",
   "id": "8f596938-05b2-49f3-81c6-05ce9347b757",
   "metadata": {},
   "source": [
    "### Parâmetros\n",
    "\n",
    "O algoritmo SA envolve a consideração de parâmetros significativos para seu funcionamento. Dentre eles:\n",
    "- $T_0$: temperatura inicial;\n",
    "- $T_l$: limite inferior de temperatura;\n",
    "- $L$: quantidade máxima de iterações;\n",
    "- $f(T)=c \\, T$: função que representa a taxa de diminuição da temperatura a cada iteração. \n",
    "\n",
    "Implemente uma classe que contenha esses dados. OBS: armazene apenas `c` no último parâmetro."
   ]
  },
  {
   "cell_type": "code",
   "execution_count": null,
   "id": "3379e919-ca13-4bd5-8374-f010cbe7dafd",
   "metadata": {},
   "outputs": [],
   "source": []
  },
  {
   "cell_type": "markdown",
   "id": "8fd6d965-7606-4072-9039-3943b369cf64",
   "metadata": {
    "tags": []
   },
   "source": [
    "### Estruturas de Vizinhança\n",
    "\n",
    "Existem várias abordagens para realizar movimentos entre soluções a fim de encontrar soluções melhores. Para ilustração da estrutura de vizinhaça adotada, considere a seguinte solução, onde temos 2 máquinas e 5 tarefas.\n",
    "\n",
    "<!-- \\begin{bmatrix}\n",
    "1 & 0 & 1 & 0 & 0\n",
    "\\end{bmatrix} -->\n",
    "\n",
    "![vizinho_1](./figures_2/vizinhanca_1.png)\n",
    "\n",
    "Uma solução vizinha poderia ser qualquer solução obtida através da realocação de qualquer tarefa para outra máquina, como:\n",
    "\n",
    "<!-- \\begin{bmatrix}\n",
    "1 & 0 & 1 & 0 & 1\n",
    "\\end{bmatrix} -->\n",
    "\n",
    "![vizinho_2](./figures_2/vizinhanca_2.png)\n",
    "\n",
    "Desenvolva uma estrutura de vizinhança que seja capaz de escolher, de forma aleatória, uma solução vizinha a partir da solução original. Nessa estrutura, a operação fundamental envolve a troca da máquina à qual uma tarefa está alocada por outra máquina. "
   ]
  },
  {
   "cell_type": "code",
   "execution_count": null,
   "id": "19d9858a-a014-4e2f-8e1a-efbe3968852e",
   "metadata": {},
   "outputs": [],
   "source": []
  },
  {
   "cell_type": "code",
   "execution_count": null,
   "id": "3fb5af16-77da-4e43-94f4-5d9d6d94ec26",
   "metadata": {},
   "outputs": [],
   "source": []
  },
  {
   "cell_type": "markdown",
   "id": "e4f3d0f1-bec6-4b7d-9d0a-c21103dbb1e1",
   "metadata": {
    "tags": []
   },
   "source": [
    "### Implementação\n",
    "Implemente o SA se baseando no pseudocódigo abaixo:\n",
    "\n",
    "![sa](./figures_2/sa.png)"
   ]
  },
  {
   "cell_type": "code",
   "execution_count": null,
   "id": "26bb39f5-a2c0-4bb1-9c3e-8678cbcb39e9",
   "metadata": {},
   "outputs": [],
   "source": []
  },
  {
   "cell_type": "markdown",
   "id": "6230c6a3-be69-4fb5-9eb7-d9dd2fc1d368",
   "metadata": {},
   "source": [
    "## 2. Algoritmos Genéticos (AG)"
   ]
  },
  {
   "cell_type": "markdown",
   "id": "0af9b764-6b34-4ef2-8071-ec49cdd3c94a",
   "metadata": {},
   "source": [
    "## Parâmetros\n",
    "\n",
    "Assim como o SA, os AG dependem de diversos parâmetros para sua execução. Armazene em uma classe os seguintes parâmetros:\n",
    "- Tamanho da população;\n",
    "- Taxa de mutação (valor entre 0 e 1);\n",
    "- Número de gerações."
   ]
  },
  {
   "cell_type": "code",
   "execution_count": null,
   "id": "6f835d0f-03f0-442a-97b2-a15143880ac6",
   "metadata": {},
   "outputs": [],
   "source": []
  },
  {
   "cell_type": "markdown",
   "id": "0c52d140-6194-4c28-adf6-017f9637c7cb",
   "metadata": {},
   "source": [
    "### População aleatória\n",
    "\n",
    "Crie uma função que, fazendo uso da função já declarada para gerar soluções aleatórias, seja responsável por gerar uma população de soluções com base nos parâmetros previamente definidos. Uma sugestão seria nomear essa função como `gerar_populacao_aleatoria(instancia, parametros)`."
   ]
  },
  {
   "cell_type": "code",
   "execution_count": null,
   "id": "18432474-e6d8-4f25-b873-3dd3c303e0d7",
   "metadata": {},
   "outputs": [],
   "source": []
  },
  {
   "cell_type": "markdown",
   "id": "8e55324c-f622-42b5-b44a-3913d02cb202",
   "metadata": {},
   "source": [
    "### Seleção por Roleta\n",
    "\n",
    "A seleção adotada para o presente minicurso é a seleção por roleta. Implemente uma solução que, ao receber uma população e sua adaptabilidade, seja capaz de selecionar e retornar uma solução com base na probabilidade estabelecida pela fórmula abaixo: \n",
    "\n",
    "$$P(s_i) = 1 - \\frac{f(s_i)}{\\sum_{j=1}^{N} f(s_j)}$$\n",
    "\n",
    "Sugestão: antes de prosseguir com a implementação da seleção por roleta, é aconselhável criar uma função que calcule a adaptabilidade de toda a população."
   ]
  },
  {
   "cell_type": "code",
   "execution_count": null,
   "id": "4d1dacd8-300e-4d9e-9d52-0106aada1c03",
   "metadata": {},
   "outputs": [],
   "source": []
  },
  {
   "cell_type": "code",
   "execution_count": null,
   "id": "2e8aebdf-bcff-4360-9a42-f4bc59a08462",
   "metadata": {},
   "outputs": [],
   "source": []
  },
  {
   "cell_type": "markdown",
   "id": "d8c55945-dbf2-4287-b1ec-905db24dae5e",
   "metadata": {
    "tags": []
   },
   "source": [
    "### Cruzamento em Um Ponto\n",
    "\n",
    "Implemente o cruzamento em um ponto `cruzar(filho, pai_1, pai_2)`. Exemplo:\n",
    "\n",
    "![cruzamento](./figures_2/cruzamento.png)\n",
    "\n",
    "<!-- Seja o Pai 1 representado pelo vetor abaixo:\n",
    "\\begin{bmatrix}\n",
    "    1 & 0 & 0 & 0 & 0\n",
    "\\end{bmatrix}\n",
    "\n",
    "E o Pai 2, pelo vetor:\n",
    "\\begin{bmatrix}\n",
    "    0 & 1 & 0 & 1 & 1\n",
    "\\end{bmatrix}\n",
    "\n",
    "Se o ponto selecionado aleatoriamente for 3, então o filho será:\n",
    "\\begin{bmatrix}\n",
    "    1 & 0 & 0 & 1 & 1\n",
    "\\end{bmatrix} -->"
   ]
  },
  {
   "cell_type": "code",
   "execution_count": null,
   "id": "56e99c82-21e1-422b-811f-20d97064cb51",
   "metadata": {},
   "outputs": [],
   "source": []
  },
  {
   "cell_type": "markdown",
   "id": "628d1230-d7ad-4270-8191-509f6f3168e5",
   "metadata": {},
   "source": [
    "### Mutação\n",
    "\n",
    "Implemente a mutação que que realiza trocas aleatórias, como na estrutura de vizinhança do SA, com a frequência controlada pelo parâmetro previamente definido."
   ]
  },
  {
   "cell_type": "code",
   "execution_count": null,
   "id": "46339e86-2dcc-4073-8608-0d76991b0266",
   "metadata": {},
   "outputs": [],
   "source": []
  },
  {
   "cell_type": "markdown",
   "id": "154ade7e-96fb-4651-8892-cdbdb7b231be",
   "metadata": {},
   "source": [
    "### Algoritmo"
   ]
  },
  {
   "cell_type": "code",
   "execution_count": null,
   "id": "acf97691-1d88-4400-9b1c-e4bcc4fb2a9b",
   "metadata": {},
   "outputs": [],
   "source": []
  }
 ],
 "metadata": {
  "kernelspec": {
   "display_name": "Python 3 (ipykernel)",
   "language": "python",
   "name": "python3"
  },
  "language_info": {
   "codemirror_mode": {
    "name": "ipython",
    "version": 3
   },
   "file_extension": ".py",
   "mimetype": "text/x-python",
   "name": "python",
   "nbconvert_exporter": "python",
   "pygments_lexer": "ipython3",
   "version": "3.11.4"
  }
 },
 "nbformat": 4,
 "nbformat_minor": 5
}
