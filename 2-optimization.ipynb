{
 "cells": [
  {
   "cell_type": "markdown",
   "id": "9ce4bcb3-b880-4ed6-bfb0-7a071a58a7b5",
   "metadata": {
    "tags": []
   },
   "source": [
    "# Algoritmos Heurísticos e Metaheurísticos para Problemas de Otimização\n",
    "1. Introdução a problemas de otimização; \n",
    "2. Visão geral dos algoritmos de otimização; \n",
    "3. Metaheurísticas para problemas de otimização combinatória, \n",
    "4. Simulated Annealing; \n",
    "5. Introdução aos Algoritmos Genéticos."
   ]
  },
  {
   "cell_type": "markdown",
   "id": "56ef7814-75d1-4830-bad5-b7462121b3a4",
   "metadata": {},
   "source": [
    "Problema do caixeiro viajante"
   ]
  },
  {
   "cell_type": "code",
   "execution_count": null,
   "id": "8d4bb665-dee0-485b-a68b-36f233a39773",
   "metadata": {},
   "outputs": [],
   "source": []
  }
 ],
 "metadata": {
  "kernelspec": {
   "display_name": "Python 3 (ipykernel)",
   "language": "python",
   "name": "python3"
  },
  "language_info": {
   "codemirror_mode": {
    "name": "ipython",
    "version": 3
   },
   "file_extension": ".py",
   "mimetype": "text/x-python",
   "name": "python",
   "nbconvert_exporter": "python",
   "pygments_lexer": "ipython3",
   "version": "3.11.4"
  }
 },
 "nbformat": 4,
 "nbformat_minor": 5
}
