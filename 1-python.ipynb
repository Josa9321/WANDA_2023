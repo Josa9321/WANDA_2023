{
 "cells": [
  {
   "cell_type": "markdown",
   "id": "6a434c46-cd74-470d-9e09-cb37f648894a",
   "metadata": {},
   "source": [
    "# Introdução à Linguagem de Programação Python\n",
    "\n",
    "Python é uma linguagem de programação de alto nível, interpretada e multiparadigma. Criada com o objetivo de aprimorar a eficiência do programador, proporciona uma sintaxe de fácil leitura e implementação.\n",
    "\n",
    "## Conteúdo do Curso\n",
    "\n",
    "1. Conceitos básicos de Python; \n",
    "2. Estruturas de decisão; \n",
    "3. Estruturas de repetição; \n",
    "4. Listas; \n",
    "5. Funções e módulos.\n",
    "\n",
    "## Documentação oficial\n",
    "\n",
    "* https://docs.python.org/3/"
   ]
  },
  {
   "cell_type": "markdown",
   "id": "8dde29a8-969b-47a1-aa2c-d0fcb1b6bc51",
   "metadata": {},
   "source": [
    "# Palestrante\n",
    "\n",
    "## Sobre mim\n",
    "\n",
    "* **Josa Ferreira**\n",
    "    * Mestrando em Engenharia de Produção pela Universidade Federal de Pernambuco.\n",
    "    \n",
    "## Contato\n",
    "* E-mail: josenildo.junior9321@gmail.com\n",
    "* LinkedIn: https://www.linkedin.com/in/josa9321/\n",
    "* GitHub: https://github.com/Josa9321"
   ]
  },
  {
   "cell_type": "markdown",
   "id": "87d31e33-fa3f-4de4-be25-098c84c7d569",
   "metadata": {
    "jp-MarkdownHeadingCollapsed": true,
    "tags": []
   },
   "source": [
    "# Propósito do seminário\n",
    "\n",
    "Este seminário tem como objetivo apresentar a linguagem de programação Python, que será a base para os cursos oferecidos durante o evento. Durante esta apresentação, abordaremos apenas alguns dos princípios fundamentais da linguagem, sendo um ponto de partida para um estudo mais aprofundado na área de interesse do participante."
   ]
  },
  {
   "cell_type": "markdown",
   "id": "7d8ceb0b-ac9d-4e5e-a473-ed0d23c4217d",
   "metadata": {},
   "source": [
    "# Jupyter Lab\n",
    "\n",
    "Para rodar os códigos nas Cells da IDE Jupyter:\n",
    "`shift` + `Enter` \n",
    "\n",
    "ou\n",
    "\n",
    "`Ctrl` + `Enter`.\n",
    "\n",
    "Para mais operações, explore as opções `Edit` e `Run` na barra de menu a medida que julgar necessário, ou procure na Internet."
   ]
  },
  {
   "cell_type": "code",
   "execution_count": null,
   "id": "d4633bfb-e927-4c55-ace2-ed61dca72e5f",
   "metadata": {},
   "outputs": [],
   "source": []
  },
  {
   "cell_type": "markdown",
   "id": "b28bf26e-00fe-40dc-a569-699d0eb34dd0",
   "metadata": {
    "tags": []
   },
   "source": [
    "# 1. Conceitos Básicos de Python\n",
    "\n",
    "- Como imprimir?\n",
    "- Sintaxe para matemática básica.\n",
    "- Como definir variáveis?\n",
    "- Como comentar?"
   ]
  },
  {
   "cell_type": "markdown",
   "id": "c8dcc282-a2c1-44e0-b457-68cf97b75bd2",
   "metadata": {},
   "source": [
    "```python\n",
    ">>> print('Hello, world')\n",
    "Hello, world\n",
    "```"
   ]
  },
  {
   "cell_type": "code",
   "execution_count": null,
   "id": "3edc64a5-f9fa-4024-9328-f81205c82b5b",
   "metadata": {},
   "outputs": [],
   "source": [
    "print('Opa pessoas')"
   ]
  },
  {
   "cell_type": "markdown",
   "id": "6d411e3b-2665-416e-87d6-e8acf7356e87",
   "metadata": {
    "tags": []
   },
   "source": [
    "## Sintaxe para matemática básica\n",
    "\n",
    "* Adição `+`; \n",
    "    ```python\n",
    "    >>> 9 + 1\n",
    "    10\n",
    "    ```\n",
    "* Subtração `-`; \n",
    "    ```python\n",
    "    >>> 3 - 1\n",
    "    2\n",
    "    ```\n",
    "* Multiplicação `*`;\n",
    "    ```python\n",
    "    >>> 2 * 8\n",
    "    16 \n",
    "    ```\n",
    "* Divisão `/` (resultado `float`); \n",
    "    ```python\n",
    "    >>> 5 / 2\n",
    "    2.5\n",
    "    ```\n",
    "* Divisão inteira `//` (resultado `int`);\n",
    "    ```python\n",
    "    >>> 7 // 2\n",
    "    3\n",
    "    ```\n",
    "* Módulo `%`; \n",
    "    ```python\n",
    "    >>> 7 % 5\n",
    "    2\n",
    "    ```\n",
    "* Potência `**`. \n",
    "    ```python\n",
    "    >>> 9 ** 2\n",
    "    81\n",
    "    ```"
   ]
  },
  {
   "cell_type": "code",
   "execution_count": null,
   "id": "4fa8c3b6-8dfb-4db7-a1a2-393bff731800",
   "metadata": {},
   "outputs": [],
   "source": []
  },
  {
   "cell_type": "markdown",
   "id": "f08382a6-3d29-4b5a-9a73-302b7bb13763",
   "metadata": {
    "tags": []
   },
   "source": [
    "## Regras para definição de variáveis:\n",
    "* **Podemos criar**:\n",
    "    * Os caracteres utilizados são os números, letras maiúsculas, minúsculas e o caractere especial sublinha (_);\n",
    "    * O primeiro caractere deve ser uma letra ou o sublinha;\n",
    "    * Não são permitidos espaços em branco;\n",
    "    * Palavras reservadas como `for` e `while` não podem ser utilizadas como identificadores."
   ]
  },
  {
   "cell_type": "code",
   "execution_count": null,
   "id": "13f47117-9817-4aea-8d55-71034dcc4e30",
   "metadata": {},
   "outputs": [],
   "source": []
  },
  {
   "cell_type": "markdown",
   "id": "f2fd6922-3a35-4a54-b2b3-c84583472a7b",
   "metadata": {},
   "source": [
    "### Recomendações para a definição de nomes\n",
    "\n",
    "* Use nomes significativos:\n",
    "    ```python\n",
    "    a = \"./b.csv\"\n",
    "    r = m(a)\n",
    "    sextou(r)\n",
    "    \n",
    "    # VS\n",
    "    \n",
    "    endereco_da_tabela = \"./weather_forecast.csv\"\n",
    "    resultados = metodo_para_prever_tempo(endereco_da_tabela)\n",
    "    salvar_resultados(resultados)\n",
    "    ```"
   ]
  },
  {
   "cell_type": "markdown",
   "id": "7d62027b-e2d6-49fc-bf08-d6732a895089",
   "metadata": {
    "tags": []
   },
   "source": [
    "# 2. Tipos de dados\n",
    "\n",
    "- Tipo primitivo (ou embutido)\n",
    "    - Incorporado na própria linguagem.\n",
    "    - Representado por uma palavra-chave.\n",
    "- Tipo derivado\n",
    "    - Pode ser criado pelo programador ou provido por uma biblioteca.\n",
    "\n",
    "Função `type` para verificar o tipo das variáveis."
   ]
  },
  {
   "cell_type": "markdown",
   "id": "855d7a1b-318e-4fc5-a3d2-e75a51dca974",
   "metadata": {},
   "source": [
    "### Tipos primitivos\n",
    "- Números (inteiros, ponto flutuante, etc)\n",
    "- Strings\n",
    "- Listas\n",
    "- Tuplas\n",
    "- Dicionários\n",
    "- Conjuntos\n",
    "- Arquivos"
   ]
  },
  {
   "cell_type": "markdown",
   "id": "322752fe-84f2-48f9-8561-8e4e72f19a33",
   "metadata": {},
   "source": [
    "### Números\n",
    "\n",
    "```python\n",
    "int\n",
    "float\n",
    "```"
   ]
  },
  {
   "cell_type": "code",
   "execution_count": 23,
   "id": "f77faba4-4c18-4836-8830-f0e02ad16353",
   "metadata": {
    "tags": []
   },
   "outputs": [],
   "source": [
    "a = 1"
   ]
  },
  {
   "cell_type": "code",
   "execution_count": 25,
   "id": "e543512d-65d8-445c-b25e-624e7d3cb5d3",
   "metadata": {
    "tags": []
   },
   "outputs": [
    {
     "data": {
      "text/plain": [
       "int"
      ]
     },
     "execution_count": 25,
     "metadata": {},
     "output_type": "execute_result"
    }
   ],
   "source": [
    "type(a)"
   ]
  },
  {
   "cell_type": "code",
   "execution_count": 24,
   "id": "5e262893-cb50-46dd-a38f-ab59e61f3888",
   "metadata": {
    "tags": []
   },
   "outputs": [],
   "source": [
    "b = 1.1"
   ]
  },
  {
   "cell_type": "code",
   "execution_count": 26,
   "id": "d6a516e9-822d-4c39-aac6-982ed886c32f",
   "metadata": {
    "tags": []
   },
   "outputs": [
    {
     "data": {
      "text/plain": [
       "float"
      ]
     },
     "execution_count": 26,
     "metadata": {},
     "output_type": "execute_result"
    }
   ],
   "source": [
    "type(b)"
   ]
  },
  {
   "cell_type": "markdown",
   "id": "06a77937-c1eb-4dd5-b784-3d74c7d40c26",
   "metadata": {},
   "source": [
    "Solicite ao usuário o tamanho do lado de um quadrado a partir da função `input` e calcule e exiba o perímetro do quadrado:\n",
    "\n",
    "Mas o que a função `input` faz? \n",
    "- `?input`;\n",
    "- Internet; \n",
    "- ChatGPT."
   ]
  },
  {
   "cell_type": "code",
   "execution_count": 55,
   "id": "97bfe6f0-1dc6-4292-8e5f-a2c891478f5a",
   "metadata": {
    "tags": []
   },
   "outputs": [
    {
     "name": "stdin",
     "output_type": "stream",
     "text": [
      " 2\n"
     ]
    },
    {
     "name": "stdout",
     "output_type": "stream",
     "text": [
      "<class 'str'>\n"
     ]
    },
    {
     "data": {
      "text/plain": [
       "'2'"
      ]
     },
     "execution_count": 55,
     "metadata": {},
     "output_type": "execute_result"
    }
   ],
   "source": [
    "a = input()\n",
    "print(type(a))\n",
    "a"
   ]
  },
  {
   "cell_type": "code",
   "execution_count": null,
   "id": "99a6dcfa-6222-45d2-8499-2d8e1511619e",
   "metadata": {},
   "outputs": [],
   "source": []
  },
  {
   "cell_type": "markdown",
   "id": "00bee26e-f4b4-41ba-83a5-1aa729728344",
   "metadata": {
    "tags": []
   },
   "source": [
    "Escreva um programa em Python que leia uma medida em metros e exiba na tela a mesma medida em milímetros."
   ]
  },
  {
   "cell_type": "code",
   "execution_count": null,
   "id": "ee90f88c-07d7-42c3-a68e-31d386def62f",
   "metadata": {},
   "outputs": [],
   "source": []
  },
  {
   "cell_type": "markdown",
   "id": "02687cf2-2a27-46e6-9939-51dbad02b48a",
   "metadata": {},
   "source": [
    "Receba de um usuário dois valores que representam os comprimentos dos catetos de um triângulo retângulo e, em seguida, calcule e imprima na tela a hipotenusa do triângulo.\n",
    "\n",
    "$$c^2 = a^2 + b^2$$"
   ]
  },
  {
   "cell_type": "code",
   "execution_count": 27,
   "id": "3956a940-980f-4e1b-990d-0a2b9c656971",
   "metadata": {
    "tags": []
   },
   "outputs": [],
   "source": [
    "from math import sqrt"
   ]
  },
  {
   "cell_type": "code",
   "execution_count": 28,
   "id": "73acb348-7051-4dd3-8f79-d7325d3a241f",
   "metadata": {},
   "outputs": [
    {
     "name": "stdout",
     "output_type": "stream",
     "text": [
      "Informe os catetos do triângulo retângulo:\n"
     ]
    },
    {
     "name": "stdin",
     "output_type": "stream",
     "text": [
      " 3\n",
      " 4\n"
     ]
    },
    {
     "name": "stdout",
     "output_type": "stream",
     "text": [
      "A hipotenusa do triângulo retângulo informado é: 5.00\n"
     ]
    }
   ],
   "source": [
    "print('Informe os catetos do triângulo retângulo:')\n",
    "a = float(input())\n",
    "b = float(input())\n",
    "print('A hipotenusa do triângulo retângulo informado é: %.2f' % sqrt(a**2 + b** 2))"
   ]
  },
  {
   "cell_type": "markdown",
   "id": "a1c8d2d7-e2e1-47c5-b652-0ce9b43b78b3",
   "metadata": {},
   "source": [
    "Desenvolva um algoritmo que, com base nos dados inseridos pelo usuário, calcule e exiba o Índice de Massa Corporal (IMC).\n",
    "\n",
    "$$ IMC = \\frac{massa}{altura^2} $$"
   ]
  },
  {
   "cell_type": "code",
   "execution_count": 35,
   "id": "e0ee2957-ea11-47d3-9329-f7f84fee45ca",
   "metadata": {},
   "outputs": [
    {
     "name": "stdin",
     "output_type": "stream",
     "text": [
      "Informe a massa de uma pessoa:\n",
      " 60\n",
      "Informe a altura de uma pessoa:\n",
      " 1.6\n"
     ]
    },
    {
     "name": "stdout",
     "output_type": "stream",
     "text": [
      "Conforme os dados inseridos, o IMC da pessoa é 23.44\n"
     ]
    }
   ],
   "source": [
    "massa = float(input('Informe a massa de uma pessoa:\\n'))\n",
    "altura = float(input('Informe a altura de uma pessoa:\\n'))\n",
    "imc = massa/(altura**2)\n",
    "print('Conforme os dados inseridos, o IMC da pessoa é %.2f' % imc)"
   ]
  },
  {
   "cell_type": "markdown",
   "id": "94bac7ea-3cb3-4a36-8cb8-1633d2534ec8",
   "metadata": {
    "tags": []
   },
   "source": [
    "### `Bools`\n",
    "```python\n",
    "bool\n",
    "```\n",
    "\n",
    "Assume valores `True` ou `False`. Os operadores relacionais mais importantes são:\n",
    "\n",
    "|Operador|Significado|\n",
    "|---     |--- |\n",
    "|==      |Igual|\n",
    "|!=      |Diferente|\n",
    "|>       |Maior|\n",
    "|>=      |Maior que ou igual|\n",
    "|<       |Menor|\n",
    "|<=      |Menor que ou igual|"
   ]
  },
  {
   "cell_type": "code",
   "execution_count": 84,
   "id": "aa4e41aa-2490-4f56-b396-b58310750191",
   "metadata": {},
   "outputs": [],
   "source": [
    "a_obra_terminou_dentro_do_prazo = False"
   ]
  },
  {
   "cell_type": "code",
   "execution_count": 89,
   "id": "de9a6dbc-1041-4664-9fc7-45d8a7a42866",
   "metadata": {
    "tags": []
   },
   "outputs": [
    {
     "data": {
      "text/plain": [
       "False"
      ]
     },
     "execution_count": 89,
     "metadata": {},
     "output_type": "execute_result"
    }
   ],
   "source": [
    "5 > 8"
   ]
  },
  {
   "cell_type": "markdown",
   "id": "3db5c03b-0ac9-4674-b713-f38acfd15d41",
   "metadata": {},
   "source": [
    "Expressões lógicas construídas a partir de `and`, `or` e `not`, apresentadas na tabela verdade:\n",
    "\n",
    "|Expressão 1| Operador| Expressão 2| Resultado |\n",
    "|---        |---      | ---        | ---       |\n",
    "| True    |and    | True     | True    |\n",
    "| True    |and    | False    | False   |\n",
    "| False   |and    | False    | False   |\n",
    "| True    |or     | True     | True    |\n",
    "| True    |or     | False    | True    |\n",
    "| False   |or     | False    | False   |\n",
    "| -       |not    | True     | False   |\n",
    "| -       |not    | False    | True    |"
   ]
  },
  {
   "cell_type": "code",
   "execution_count": 100,
   "id": "560dbb6f-1787-40ce-8726-911588b0879f",
   "metadata": {
    "tags": []
   },
   "outputs": [
    {
     "name": "stdin",
     "output_type": "stream",
     "text": [
      "Você tem gatos.  \n",
      "Você já leu Frankenstein.  True\n"
     ]
    },
    {
     "name": "stdout",
     "output_type": "stream",
     "text": [
      "você está correto.  False\n"
     ]
    }
   ],
   "source": [
    "proposicao_1 = bool(input('Você tem gatos. '))\n",
    "proposicao_2 = bool(input('Você já leu Frankenstein. '))\n",
    "print('você está correto. ', proposicao_1 and proposicao_2)"
   ]
  },
  {
   "cell_type": "markdown",
   "id": "f3b9ba25-e18b-4708-8d94-be90548e6783",
   "metadata": {},
   "source": [
    "Faça um algoritmo que receba a temperatura do usuário e imprima na tela se a proposição <font color='red'>Ele está com febre</font> é verdadeira ou falsa (> 37.8ºC).\n"
   ]
  },
  {
   "cell_type": "code",
   "execution_count": 102,
   "id": "1e1ff856-e196-44f0-950e-1988e3e30913",
   "metadata": {},
   "outputs": [
    {
     "name": "stdin",
     "output_type": "stream",
     "text": [
      "Informe sua temperatura:  7\n"
     ]
    },
    {
     "name": "stdout",
     "output_type": "stream",
     "text": [
      "Ele está com febre. False\n"
     ]
    }
   ],
   "source": [
    "temperatura = float(input('Informe sua temperatura: '))\n",
    "ele_esta_com_febre = temperatura > 37.8\n",
    "print(f'Ele está com febre. {ele_esta_com_febre}')"
   ]
  },
  {
   "cell_type": "markdown",
   "id": "b9779385-270f-4c20-9af6-13582367e399",
   "metadata": {},
   "source": [
    "Um número é par quando, se dividido por 2, o resto da divisão será 0. Solicite ao usuário um número e informe se a afirmação <font color='red'>O número é par</font> para o valor informado é verdadeira ou falsa."
   ]
  },
  {
   "cell_type": "code",
   "execution_count": 103,
   "id": "08a5ef98-8035-4c6a-8ce3-07b846f2c69e",
   "metadata": {
    "tags": []
   },
   "outputs": [
    {
     "name": "stdin",
     "output_type": "stream",
     "text": [
      "Digite um número:  0\n"
     ]
    },
    {
     "name": "stdout",
     "output_type": "stream",
     "text": [
      "O número é par. True\n"
     ]
    }
   ],
   "source": [
    "numero = int(input('Digite um número: '))\n",
    "eh_numero_par = numero % 2 == 0\n",
    "print(f'O número é par. {eh_numero_par}')"
   ]
  },
  {
   "cell_type": "markdown",
   "id": "664be532-83bc-4636-afc9-cb6027cf66f5",
   "metadata": {},
   "source": [
    "### `Strings`\n",
    "\n",
    "```python\n",
    "\"\" ou ''\n",
    "```\n",
    "\n",
    "Operadores:\n",
    " - `\\t`: tabulação;\n",
    " - `\\n`: nova linha;\n",
    " - `%d`: int;\n",
    " - `%f`: float;\n",
    " - `%s`: string\n",
    " - `f'{}'`"
   ]
  },
  {
   "cell_type": "markdown",
   "id": "f4be81f7-58dc-43e1-b210-bccd7b7b59e0",
   "metadata": {},
   "source": [
    "Receba o nome do usuário e imprima na tela quantos caracteres ele possui."
   ]
  },
  {
   "cell_type": "code",
   "execution_count": 67,
   "id": "222a969d-43f9-4a86-891c-2ecc6a31e148",
   "metadata": {
    "tags": []
   },
   "outputs": [
    {
     "name": "stdin",
     "output_type": "stream",
     "text": [
      "Informe seu nome:  Josa Ferreira\n"
     ]
    },
    {
     "name": "stdout",
     "output_type": "stream",
     "text": [
      "Opa Josa Ferreira. Seu nome tem 13 caracteres.\n"
     ]
    }
   ],
   "source": [
    "nome = input('Informe seu nome: ')\n",
    "print('Opa %s. Seu nome tem %d caracteres.' % (nome, len(nome)))"
   ]
  },
  {
   "cell_type": "markdown",
   "id": "2b3852cb-851e-4049-aa42-73b4fe2c11ef",
   "metadata": {},
   "source": [
    "Crie um programa que solicite ao usuário seu nome e duas notas, e em seguida, exiba na tela a mensagem conforme o exemplo a seguir:\n",
    "**João obteve 8.0 e 6.0 nas provas, resultando em uma média de 7.0.**"
   ]
  },
  {
   "cell_type": "code",
   "execution_count": null,
   "id": "40639e85-2cca-4fc3-bf43-efc95bcdf9c4",
   "metadata": {},
   "outputs": [],
   "source": [
    "nome = input('Informe seu nome: ')"
   ]
  },
  {
   "cell_type": "markdown",
   "id": "d5eb1be1-4bac-46d3-820a-cac3f2eafe1e",
   "metadata": {},
   "source": [
    "Também é possível concatenar `strings`, unindo-as a partir do operador `+`. \n",
    "\n",
    "Corrija o código abaixo:"
   ]
  },
  {
   "cell_type": "code",
   "execution_count": 2,
   "id": "0daba552-d335-49ff-b84a-8183dc33fd2b",
   "metadata": {
    "tags": []
   },
   "outputs": [
    {
     "ename": "TypeError",
     "evalue": "can only concatenate str (not \"int\") to str",
     "output_type": "error",
     "traceback": [
      "\u001b[1;31m---------------------------------------------------------------------------\u001b[0m",
      "\u001b[1;31mTypeError\u001b[0m                                 Traceback (most recent call last)",
      "Cell \u001b[1;32mIn[2], line 3\u001b[0m\n\u001b[0;32m      1\u001b[0m solucao \u001b[38;5;241m=\u001b[39m \u001b[38;5;241m10\u001b[39m\n\u001b[1;32m----> 3\u001b[0m \u001b[38;5;28mprint\u001b[39m(\u001b[38;5;124m'\u001b[39m\u001b[38;5;124mA solução do problema é \u001b[39m\u001b[38;5;124m'\u001b[39m \u001b[38;5;241m+\u001b[39m solucao \u001b[38;5;241m+\u001b[39m \u001b[38;5;124m'\u001b[39m\u001b[38;5;124m metros\u001b[39m\u001b[38;5;124m'\u001b[39m)\n",
      "\u001b[1;31mTypeError\u001b[0m: can only concatenate str (not \"int\") to str"
     ]
    }
   ],
   "source": [
    "solucao = 10\n",
    "\n",
    "print('A solução do problema é ' + solucao + ' metros')"
   ]
  },
  {
   "cell_type": "markdown",
   "id": "e5c3eb27-c1fa-4e41-90bb-f6fb69e16f7f",
   "metadata": {},
   "source": [
    "# 3. Estruturas de Decisão\n",
    "\n",
    "![estruturas_de_decisao](decisao.png)\n",
    "\n",
    "```python\n",
    "condicao_1 = 2 > 5\n",
    "condicao_2 = 7 == 5+2\n",
    "if condicao_1:\n",
    "    print('Condição 1 é verdadeira')\n",
    "elif condicao_2:\n",
    "    print('Condição 2 é verdadeira')\n",
    "else:\n",
    "    print('Tudo é falso')\n",
    "```"
   ]
  },
  {
   "cell_type": "code",
   "execution_count": 3,
   "id": "74f13ca6-1882-43d7-b23b-52cc0106ff9c",
   "metadata": {
    "tags": []
   },
   "outputs": [
    {
     "name": "stdout",
     "output_type": "stream",
     "text": [
      "Condição 2 é verdadeira\n"
     ]
    }
   ],
   "source": [
    "condicao_1 = 2 > 5\n",
    "condicao_2 = 7 == 5+2\n",
    "if condicao_1:\n",
    "    print('Condição 1 é verdadeira')\n",
    "elif condicao_2:\n",
    "    print('Condição 2 é verdadeira')\n",
    "else:\n",
    "    print('Tudo é falso')"
   ]
  },
  {
   "cell_type": "markdown",
   "id": "64bf4e60-b31f-4432-9183-8d9b220352c8",
   "metadata": {},
   "source": [
    "#### Sobre Indentação"
   ]
  },
  {
   "cell_type": "code",
   "execution_count": 4,
   "id": "1afd4008-5b1d-4d33-877d-6573f7823c2f",
   "metadata": {
    "tags": []
   },
   "outputs": [
    {
     "ename": "IndentationError",
     "evalue": "expected an indented block after 'if' statement on line 3 (2473908077.py, line 4)",
     "output_type": "error",
     "traceback": [
      "\u001b[1;36m  Cell \u001b[1;32mIn[4], line 4\u001b[1;36m\u001b[0m\n\u001b[1;33m    print('Condição 1 é verdadeira')\u001b[0m\n\u001b[1;37m    ^\u001b[0m\n\u001b[1;31mIndentationError\u001b[0m\u001b[1;31m:\u001b[0m expected an indented block after 'if' statement on line 3\n"
     ]
    }
   ],
   "source": [
    "condicao_1 = 2 > 5\n",
    "condicao_2 = 7 == 5+2\n",
    "if condicao_1:\n",
    "print('Condição 1 é verdadeira')\n",
    "elif condicao_2:\n",
    "print('Condição 2 é verdadeira')\n",
    "else:\n",
    "print('Tudo é falso')"
   ]
  },
  {
   "cell_type": "markdown",
   "id": "778d5f97-513d-45c0-a351-ec6d60a50c51",
   "metadata": {},
   "source": [
    "Utilize a formulação de cálculo de IMC programada anteriormente para classificar o usuário a partir da tabela abaixo.\n",
    "\n",
    "| IMC | Classificação |\n",
    "| ----| ---- | \n",
    "| \\[0, 18.5) | \"Abaixo do peso\" |\n",
    "| \\[18.5, 24.9) | \"Peso ideal\" |\n",
    "| \\[24.9, ∞) | \"Sobrepeso\" |"
   ]
  },
  {
   "cell_type": "code",
   "execution_count": null,
   "id": "bd12ee50-93a7-4e01-99d0-9bd2a11ceb2d",
   "metadata": {},
   "outputs": [],
   "source": []
  },
  {
   "cell_type": "markdown",
   "id": "172042f9-d2da-4f34-aaf2-30710a247fc6",
   "metadata": {},
   "source": [
    "Escreva um algoritmo em python que receba 2 números e os imprima na tela em ordem crescente."
   ]
  },
  {
   "cell_type": "code",
   "execution_count": null,
   "id": "6cf6c099-19f1-4899-bc22-bfbc9f0971b2",
   "metadata": {},
   "outputs": [],
   "source": []
  },
  {
   "cell_type": "markdown",
   "id": "bdcd1500-de8a-412d-934f-78bc94b5748d",
   "metadata": {
    "tags": []
   },
   "source": [
    "Escreva um programa que leia o nome e as notas de um aluno, calcule a média e escreva na tela o nome e a sua situação de acordo com quadro abaixo:\n",
    "\n",
    "|Média| Situação|\n",
    "|---  |---      |\n",
    "| $\\geq 7.0$|Aprovado|\n",
    "| $\\geq 4.0$ e $< 7.0$ | Final|\n",
    "|$< 4.0$ | Reprovado|"
   ]
  },
  {
   "cell_type": "code",
   "execution_count": null,
   "id": "fdd0b3c2-5cd7-42f7-ac4f-70b275a039d7",
   "metadata": {},
   "outputs": [],
   "source": []
  },
  {
   "cell_type": "markdown",
   "id": "47280fbd-50f4-4f91-af06-ca76df19a1b5",
   "metadata": {
    "tags": []
   },
   "source": [
    "Desenvolva um programa que receba o valor do salário bruto, calcule e apresente o valor de desconto do INSS e o valor do salário líquido (o salário bruto descontado do INSS), considerando que:\n",
    " - Para um salário de até R\\$ 420,00, o desconto de INSS é de 8%;\n",
    " - Para um salário de até $R\\$ 420,00$ até $R\\$ 1350,00$, o desconto de INSS é de 9%;\n",
    " - Para um salário acima de $R\\$ 1350,00$, o desconto de INSS é de  10%;"
   ]
  },
  {
   "cell_type": "code",
   "execution_count": null,
   "id": "86156cab-8fae-42b9-adf1-b8a98ca1d88b",
   "metadata": {},
   "outputs": [],
   "source": []
  },
  {
   "cell_type": "markdown",
   "id": "ffb0077b-1435-4050-9ed2-a75152ed9266",
   "metadata": {},
   "source": [
    "Faça um jogo de \"Pedra, papel, tesoura\" de um usuário contra o computador, imprimindo se o usuário ganhou, perdeu ou houve um empate contra a máquina. Para isso, gere valores aleatórios utilizando a função `randint` da biblioteca `random`.\n",
    "\n",
    "Dica: represente pedra como 0, papel, 1, e tesoura, 2."
   ]
  },
  {
   "cell_type": "code",
   "execution_count": 106,
   "id": "01c95ec0-6e13-4946-957f-04a0268301da",
   "metadata": {
    "tags": []
   },
   "outputs": [],
   "source": [
    "from random import randint"
   ]
  },
  {
   "cell_type": "code",
   "execution_count": 107,
   "id": "53191d7b-b616-4872-bff7-0e7cfaf400d8",
   "metadata": {
    "tags": []
   },
   "outputs": [
    {
     "data": {
      "text/plain": [
       "\u001b[1;31mSignature:\u001b[0m \u001b[0mrandint\u001b[0m\u001b[1;33m(\u001b[0m\u001b[0ma\u001b[0m\u001b[1;33m,\u001b[0m \u001b[0mb\u001b[0m\u001b[1;33m)\u001b[0m\u001b[1;33m\u001b[0m\u001b[1;33m\u001b[0m\u001b[0m\n",
       "\u001b[1;31mDocstring:\u001b[0m\n",
       "Return random integer in range [a, b], including both end points.\n",
       "        \n",
       "\u001b[1;31mFile:\u001b[0m      c:\\users\\josen\\anaconda3\\lib\\random.py\n",
       "\u001b[1;31mType:\u001b[0m      method"
      ]
     },
     "metadata": {},
     "output_type": "display_data"
    }
   ],
   "source": [
    "?randint"
   ]
  },
  {
   "cell_type": "code",
   "execution_count": null,
   "id": "5d7c4a12-64c7-41f9-a4ef-6d5b5fe25850",
   "metadata": {},
   "outputs": [],
   "source": []
  },
  {
   "cell_type": "markdown",
   "id": "d98d7c69-10d2-4aa1-b55b-57338c9ffda0",
   "metadata": {},
   "source": [
    "## 4. Estruturas de repetição\n"
   ]
  },
  {
   "cell_type": "code",
   "execution_count": null,
   "id": "4872f530-7feb-4495-b22f-60f15dcefc98",
   "metadata": {},
   "outputs": [],
   "source": []
  }
 ],
 "metadata": {
  "kernelspec": {
   "display_name": "Python 3 (ipykernel)",
   "language": "python",
   "name": "python3"
  },
  "language_info": {
   "codemirror_mode": {
    "name": "ipython",
    "version": 3
   },
   "file_extension": ".py",
   "mimetype": "text/x-python",
   "name": "python",
   "nbconvert_exporter": "python",
   "pygments_lexer": "ipython3",
   "version": "3.11.3"
  }
 },
 "nbformat": 4,
 "nbformat_minor": 5
}
