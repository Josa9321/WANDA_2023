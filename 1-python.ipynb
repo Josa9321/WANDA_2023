{
 "cells": [
  {
   "cell_type": "markdown",
   "id": "6a434c46-cd74-470d-9e09-cb37f648894a",
   "metadata": {},
   "source": [
    "# Introdução à Linguagem de Programação Python\n",
    "\n",
    "Python é uma linguagem de programação de alto nível, interpretada e multiparadigma. Criada com o objetivo de aprimorar a eficiência do programador, proporciona uma sintaxe de fácil leitura e implementação.\n",
    "\n",
    "## Conteúdo do Curso\n",
    "\n",
    "1. Conceitos básicos de Python; \n",
    "2. Estruturas de decisão; \n",
    "3. Estruturas de repetição; \n",
    "4. Listas; \n",
    "5. Funções e módulos.\n",
    "\n",
    "## Documentação oficial\n",
    "\n",
    "* https://docs.python.org/3/"
   ]
  },
  {
   "cell_type": "markdown",
   "id": "8dde29a8-969b-47a1-aa2c-d0fcb1b6bc51",
   "metadata": {},
   "source": [
    "# Palestrante\n",
    "\n",
    "## Sobre mim\n",
    "\n",
    "* **Josa Ferreira**\n",
    "    * Mestrando em Engenharia de Produção pela Universidade Federal de Pernambuco.\n",
    "    \n",
    "## Contato\n",
    "* E-mail: josenildo.junior9321@gmail.com\n",
    "* LinkedIn: https://www.linkedin.com/in/josa9321/\n",
    "* GitHub: https://github.com/Josa9321"
   ]
  },
  {
   "cell_type": "markdown",
   "id": "87d31e33-fa3f-4de4-be25-098c84c7d569",
   "metadata": {
    "jp-MarkdownHeadingCollapsed": true,
    "tags": []
   },
   "source": [
    "# Propósito do seminário\n",
    "\n",
    "Este seminário tem como objetivo apresentar a linguagem de programação Python, que será a base para os cursos oferecidos durante o evento. Durante esta apresentação, abordaremos apenas alguns dos princípios fundamentais da linguagem, sendo um ponto de partida para um estudo mais aprofundado na área de interesse do participante."
   ]
  },
  {
   "cell_type": "markdown",
   "id": "7d8ceb0b-ac9d-4e5e-a473-ed0d23c4217d",
   "metadata": {},
   "source": [
    "# Jupyter Lab\n",
    "\n",
    "Para rodar os códigos nas Cells da IDE Jupyter:\n",
    "`shift` + `Enter` \n",
    "\n",
    "ou\n",
    "\n",
    "`Ctrl` + `Enter`.\n",
    "\n",
    "Para mais operações, explore as opções `Edit` e `Run` na barra de menu a medida que julgar necessário, ou procure na Internet."
   ]
  },
  {
   "cell_type": "code",
   "execution_count": null,
   "id": "c444b312-3b0f-406c-a14e-c7a51dd0acd4",
   "metadata": {},
   "outputs": [],
   "source": []
  },
  {
   "cell_type": "markdown",
   "id": "b28bf26e-00fe-40dc-a569-699d0eb34dd0",
   "metadata": {
    "tags": []
   },
   "source": [
    "# 1. Conceitos Básicos de Python\n",
    "\n",
    "- Como imprimir?\n",
    "- Sintaxe para matemática básica.\n",
    "- Como definir variáveis?\n",
    "- Como comentar?"
   ]
  },
  {
   "cell_type": "markdown",
   "id": "c8dcc282-a2c1-44e0-b457-68cf97b75bd2",
   "metadata": {},
   "source": [
    "```python\n",
    ">>> print('Hello, world')\n",
    "Hello, world\n",
    "```"
   ]
  },
  {
   "cell_type": "code",
   "execution_count": null,
   "id": "5505869e-352f-4635-a450-8fa8c580336b",
   "metadata": {},
   "outputs": [],
   "source": []
  },
  {
   "cell_type": "markdown",
   "id": "6d411e3b-2665-416e-87d6-e8acf7356e87",
   "metadata": {
    "tags": []
   },
   "source": [
    "## Sintaxe para matemática básica\n",
    "\n",
    "* Adição `+`; \n",
    "    ```python\n",
    "    >>> 9 + 1\n",
    "    10\n",
    "    ```\n",
    "* Subtração `-`; \n",
    "    ```python\n",
    "    >>> 3 - 1\n",
    "    2\n",
    "    ```\n",
    "* Multiplicação `*`;\n",
    "    ```python\n",
    "    >>> 2 * 8\n",
    "    16 \n",
    "    ```\n",
    "* Divisão `/` (resultado `float`); \n",
    "    ```python\n",
    "    >>> 5 / 2\n",
    "    2.5\n",
    "    ```\n",
    "* Divisão inteira `//` (resultado `int`);\n",
    "    ```python\n",
    "    >>> 7 // 2\n",
    "    3\n",
    "    ```\n",
    "* Módulo `%`; \n",
    "    ```python\n",
    "    >>> 7 % 5\n",
    "    2\n",
    "    ```\n",
    "* Potência `**`. \n",
    "    ```python\n",
    "    >>> 9 ** 2\n",
    "    81\n",
    "    ```"
   ]
  },
  {
   "cell_type": "code",
   "execution_count": null,
   "id": "4fa8c3b6-8dfb-4db7-a1a2-393bff731800",
   "metadata": {},
   "outputs": [],
   "source": []
  },
  {
   "cell_type": "markdown",
   "id": "f08382a6-3d29-4b5a-9a73-302b7bb13763",
   "metadata": {
    "tags": []
   },
   "source": [
    "## Regras para definição de variáveis:\n",
    "* **Podemos criar**:\n",
    "    * Os caracteres utilizados são os números, letras maiúsculas, minúsculas e o caractere especial sublinha (_);\n",
    "    * O primeiro caractere deve ser uma letra ou o sublinha;\n",
    "    * Não são permitidos espaços em branco;\n",
    "    * Palavras reservadas como `for` e `while` não podem ser utilizadas como identificadores."
   ]
  },
  {
   "cell_type": "code",
   "execution_count": null,
   "id": "13f47117-9817-4aea-8d55-71034dcc4e30",
   "metadata": {},
   "outputs": [],
   "source": []
  },
  {
   "cell_type": "markdown",
   "id": "f2fd6922-3a35-4a54-b2b3-c84583472a7b",
   "metadata": {},
   "source": [
    "### Recomendações para a definição de nomes\n",
    "\n",
    "* Use nomes significativos:\n",
    "    ```python\n",
    "    a = \"./b.csv\"\n",
    "    res = me(a)\n",
    "    sextou(res)\n",
    "    \n",
    "    # VS\n",
    "    \n",
    "    endereco_da_tabela = \"./weather_forecast.csv\"\n",
    "    resultados = metodo_para_prever_tempo(endereco_da_tabela)\n",
    "    salvar_resultados(resultados)\n",
    "    ```"
   ]
  },
  {
   "cell_type": "markdown",
   "id": "7d62027b-e2d6-49fc-bf08-d6732a895089",
   "metadata": {
    "tags": []
   },
   "source": [
    "# 2. Tipos de dados\n",
    "\n",
    "- Tipo primitivo (ou embutido)\n",
    "    - Incorporado na própria linguagem.\n",
    "    - Representado por uma palavra-chave.\n",
    "- Tipo derivado\n",
    "    - Pode ser criado pelo programador ou provido por uma biblioteca.\n",
    "\n",
    "Função `type` para verificar o tipo das variáveis."
   ]
  },
  {
   "cell_type": "markdown",
   "id": "855d7a1b-318e-4fc5-a3d2-e75a51dca974",
   "metadata": {},
   "source": [
    "### Tipos primitivos\n",
    "- Números (inteiros, ponto flutuante, etc)\n",
    "- Strings\n",
    "- Listas\n",
    "- Tuplas\n",
    "- Dicionários\n",
    "- Conjuntos\n",
    "- Arquivos"
   ]
  },
  {
   "cell_type": "markdown",
   "id": "322752fe-84f2-48f9-8561-8e4e72f19a33",
   "metadata": {},
   "source": [
    "### Números\n",
    "\n",
    "```python\n",
    "int\n",
    "float\n",
    "```"
   ]
  },
  {
   "cell_type": "code",
   "execution_count": null,
   "id": "f77faba4-4c18-4836-8830-f0e02ad16353",
   "metadata": {
    "tags": []
   },
   "outputs": [],
   "source": [
    "a = 1"
   ]
  },
  {
   "cell_type": "code",
   "execution_count": null,
   "id": "e543512d-65d8-445c-b25e-624e7d3cb5d3",
   "metadata": {
    "tags": []
   },
   "outputs": [],
   "source": [
    "type(a)"
   ]
  },
  {
   "cell_type": "code",
   "execution_count": null,
   "id": "5e262893-cb50-46dd-a38f-ab59e61f3888",
   "metadata": {
    "tags": []
   },
   "outputs": [],
   "source": [
    "b = 1.1"
   ]
  },
  {
   "cell_type": "code",
   "execution_count": null,
   "id": "d6a516e9-822d-4c39-aac6-982ed886c32f",
   "metadata": {
    "tags": []
   },
   "outputs": [],
   "source": [
    "type(b)"
   ]
  },
  {
   "cell_type": "markdown",
   "id": "06a77937-c1eb-4dd5-b784-3d74c7d40c26",
   "metadata": {},
   "source": [
    "Solicite ao usuário o tamanho do lado de um quadrado a partir da função `input` e calcule e exiba o perímetro do quadrado:\n",
    "\n",
    "Mas o que a função `input` faz? \n",
    "- `?input`;\n",
    "- Internet; \n",
    "- ChatGPT."
   ]
  },
  {
   "cell_type": "code",
   "execution_count": null,
   "id": "99a6dcfa-6222-45d2-8499-2d8e1511619e",
   "metadata": {},
   "outputs": [],
   "source": []
  },
  {
   "cell_type": "markdown",
   "id": "00bee26e-f4b4-41ba-83a5-1aa729728344",
   "metadata": {
    "tags": []
   },
   "source": [
    "Escreva um programa em Python que leia uma medida em metros e exiba na tela a mesma medida em milímetros."
   ]
  },
  {
   "cell_type": "code",
   "execution_count": null,
   "id": "ee90f88c-07d7-42c3-a68e-31d386def62f",
   "metadata": {},
   "outputs": [],
   "source": []
  },
  {
   "cell_type": "markdown",
   "id": "02687cf2-2a27-46e6-9939-51dbad02b48a",
   "metadata": {},
   "source": [
    "Receba de um usuário dois valores que representam os comprimentos dos catetos de um triângulo retângulo e, em seguida, calcule e imprima na tela a hipotenusa do triângulo.\n",
    "\n",
    "$$c^2 = a^2 + b^2$$"
   ]
  },
  {
   "cell_type": "code",
   "execution_count": null,
   "id": "bac13b0a-6b1d-48a1-a58d-e12dbc042a11",
   "metadata": {},
   "outputs": [],
   "source": []
  },
  {
   "cell_type": "markdown",
   "id": "a1c8d2d7-e2e1-47c5-b652-0ce9b43b78b3",
   "metadata": {},
   "source": [
    "Desenvolva um algoritmo que, com base nos dados inseridos pelo usuário, calcule e exiba o Índice de Massa Corporal (IMC).\n",
    "\n",
    "$$ IMC = \\frac{massa}{altura^2} $$"
   ]
  },
  {
   "cell_type": "code",
   "execution_count": null,
   "id": "4f927896-6a8b-4323-b086-9e1893a5f32d",
   "metadata": {},
   "outputs": [],
   "source": []
  },
  {
   "cell_type": "markdown",
   "id": "94bac7ea-3cb3-4a36-8cb8-1633d2534ec8",
   "metadata": {
    "tags": []
   },
   "source": [
    "### `Bools`\n",
    "```python\n",
    "bool\n",
    "```\n",
    "\n",
    "Assume valores `True` ou `False`. Os operadores relacionais mais importantes são:\n",
    "\n",
    "|Operador|Significado|\n",
    "|---     |--- |\n",
    "|==      |Igual|\n",
    "|!=      |Diferente|\n",
    "|>       |Maior|\n",
    "|>=      |Maior que ou igual|\n",
    "|<       |Menor|\n",
    "|<=      |Menor que ou igual|"
   ]
  },
  {
   "cell_type": "code",
   "execution_count": null,
   "id": "aa4e41aa-2490-4f56-b396-b58310750191",
   "metadata": {},
   "outputs": [],
   "source": [
    "a_obra_terminou_dentro_do_prazo = False"
   ]
  },
  {
   "cell_type": "code",
   "execution_count": null,
   "id": "de9a6dbc-1041-4664-9fc7-45d8a7a42866",
   "metadata": {
    "tags": []
   },
   "outputs": [],
   "source": [
    "5 > 8"
   ]
  },
  {
   "cell_type": "markdown",
   "id": "3db5c03b-0ac9-4674-b713-f38acfd15d41",
   "metadata": {},
   "source": [
    "Expressões lógicas construídas a partir de `and`, `or` e `not`, apresentadas na tabela verdade:\n",
    "\n",
    "|Expressão 1| Operador| Expressão 2| Resultado |\n",
    "|---        |---      | ---        | ---       |\n",
    "| True    |and    | True     | True    |\n",
    "| True    |and    | False    | False   |\n",
    "| False   |and    | False    | False   |\n",
    "| True    |or     | True     | True    |\n",
    "| True    |or     | False    | True    |\n",
    "| False   |or     | False    | False   |\n",
    "| -       |not    | True     | False   |\n",
    "| -       |not    | False    | True    |"
   ]
  },
  {
   "cell_type": "code",
   "execution_count": null,
   "id": "560dbb6f-1787-40ce-8726-911588b0879f",
   "metadata": {
    "tags": []
   },
   "outputs": [],
   "source": [
    "proposicao_1 = bool(input('Você tem gatos. '))\n",
    "proposicao_2 = bool(input('Você já leu Frankenstein. '))\n",
    "print('você está correto. ', proposicao_1 and proposicao_2)"
   ]
  },
  {
   "cell_type": "markdown",
   "id": "f3b9ba25-e18b-4708-8d94-be90548e6783",
   "metadata": {},
   "source": [
    "Faça um algoritmo que receba a temperatura do usuário e imprima na tela se a proposição <font color='red'>Ele está com febre</font> é verdadeira ou falsa (> 37.8ºC).\n"
   ]
  },
  {
   "cell_type": "code",
   "execution_count": null,
   "id": "fa23fed3-d3da-4f04-88f4-41ffb8ba55bc",
   "metadata": {},
   "outputs": [],
   "source": []
  },
  {
   "cell_type": "markdown",
   "id": "b9779385-270f-4c20-9af6-13582367e399",
   "metadata": {},
   "source": [
    "Um número é par quando, se dividido por 2, o resto da divisão será 0. Solicite ao usuário um número e informe se a afirmação <font color='red'>O número é par</font> para o valor informado é verdadeira ou falsa."
   ]
  },
  {
   "cell_type": "code",
   "execution_count": null,
   "id": "6ce3bb4d-b941-446e-a073-4f1d5ad52e9b",
   "metadata": {},
   "outputs": [],
   "source": []
  },
  {
   "cell_type": "markdown",
   "id": "664be532-83bc-4636-afc9-cb6027cf66f5",
   "metadata": {},
   "source": [
    "### `Strings`\n",
    "\n",
    "```python\n",
    "\"\" ou ''\n",
    "```\n",
    "\n",
    "Operadores:\n",
    " - `\\t`: tabulação;\n",
    " - `\\n`: nova linha;\n",
    " - `%d`: int;\n",
    " - `%f`: float;\n",
    " - `%s`: string\n",
    " - `f'{}'`"
   ]
  },
  {
   "cell_type": "markdown",
   "id": "f4be81f7-58dc-43e1-b210-bccd7b7b59e0",
   "metadata": {},
   "source": [
    "Receba o nome do usuário e imprima na tela quantos caracteres ele possui."
   ]
  },
  {
   "cell_type": "code",
   "execution_count": null,
   "id": "c8b76a42-3d53-497a-b393-151244a62cdc",
   "metadata": {},
   "outputs": [],
   "source": []
  },
  {
   "cell_type": "markdown",
   "id": "2b3852cb-851e-4049-aa42-73b4fe2c11ef",
   "metadata": {},
   "source": [
    "Crie um programa que solicite ao usuário seu nome e duas notas, e em seguida, exiba na tela a mensagem conforme o exemplo a seguir:\n",
    "**João obteve 8.0 e 6.0 nas provas, resultando em uma média de 7.0.**"
   ]
  },
  {
   "cell_type": "code",
   "execution_count": null,
   "id": "98e8ed7e-3ad7-45d3-b932-88d2a3c56ee4",
   "metadata": {},
   "outputs": [],
   "source": []
  },
  {
   "cell_type": "markdown",
   "id": "d5eb1be1-4bac-46d3-820a-cac3f2eafe1e",
   "metadata": {},
   "source": [
    "Também é possível concatenar `strings`, unindo-as a partir do operador `+`. \n",
    "\n",
    "Corrija o código abaixo:"
   ]
  },
  {
   "cell_type": "code",
   "execution_count": null,
   "id": "6d0cce7f-a4c2-4175-a9f1-0b9084b79a3e",
   "metadata": {
    "tags": []
   },
   "outputs": [],
   "source": [
    "solucao = 10\n",
    "\n",
    "print('A solução do problema é ' + solucao + ' metros')"
   ]
  },
  {
   "cell_type": "markdown",
   "id": "e5c3eb27-c1fa-4e41-90bb-f6fb69e16f7f",
   "metadata": {
    "tags": []
   },
   "source": [
    "# 3. Estruturas de Decisão\n",
    "\n",
    "![estruturas_de_decisao](figures_1/decisao.png)\n",
    "\n",
    "```python\n",
    "proposicao_1 = 2 > 5\n",
    "proposicao_2 = 7 == 5+2\n",
    "if proposicao_1:\n",
    "    print('Proposição 1 é verdadeira')\n",
    "elif proposicao_2:\n",
    "    print('Proposição 2 é verdadeira')\n",
    "else:\n",
    "    print('Tudo é falso')\n",
    "```"
   ]
  },
  {
   "cell_type": "code",
   "execution_count": null,
   "id": "74f13ca6-1882-43d7-b23b-52cc0106ff9c",
   "metadata": {
    "tags": []
   },
   "outputs": [],
   "source": [
    "proposicao_1 = 2 > 5\n",
    "proposicao_2 = 7 == 5+2\n",
    "if proposicao_1:\n",
    "    print('Proposição 1 é verdadeira')\n",
    "elif proposicao_2:\n",
    "    print('Proposição 2 é verdadeira')\n",
    "else:\n",
    "    print('Tudo é falso')"
   ]
  },
  {
   "cell_type": "markdown",
   "id": "64bf4e60-b31f-4432-9183-8d9b220352c8",
   "metadata": {},
   "source": [
    "#### Sobre Indentação"
   ]
  },
  {
   "cell_type": "code",
   "execution_count": null,
   "id": "1afd4008-5b1d-4d33-877d-6573f7823c2f",
   "metadata": {
    "tags": []
   },
   "outputs": [],
   "source": [
    "proposicao_1 = 2 > 5\n",
    "proposicao_2 = 7 == 5+2\n",
    "if proposicao_1:\n",
    "print('Proposição 1 é verdadeira')\n",
    "elif proposicao_2:\n",
    "print('Proposição 2 é verdadeira')\n",
    "else:\n",
    "print('Tudo é falso')"
   ]
  },
  {
   "cell_type": "markdown",
   "id": "778d5f97-513d-45c0-a351-ec6d60a50c51",
   "metadata": {},
   "source": [
    "Utilize a formulação de cálculo de IMC programada anteriormente para classificar o usuário a partir da tabela abaixo.\n",
    "\n",
    "| IMC | Classificação |\n",
    "| ----| ---- | \n",
    "| \\[0, 18.5) | \"Abaixo do peso\" |\n",
    "| \\[18.5, 24.9) | \"Peso ideal\" |\n",
    "| \\[24.9, ∞) | \"Sobrepeso\" |"
   ]
  },
  {
   "cell_type": "code",
   "execution_count": null,
   "id": "bd12ee50-93a7-4e01-99d0-9bd2a11ceb2d",
   "metadata": {},
   "outputs": [],
   "source": []
  },
  {
   "cell_type": "markdown",
   "id": "172042f9-d2da-4f34-aaf2-30710a247fc6",
   "metadata": {},
   "source": [
    "Escreva um algoritmo em python que receba 2 números e os imprima na tela em ordem crescente."
   ]
  },
  {
   "cell_type": "code",
   "execution_count": null,
   "id": "6cf6c099-19f1-4899-bc22-bfbc9f0971b2",
   "metadata": {},
   "outputs": [],
   "source": []
  },
  {
   "cell_type": "markdown",
   "id": "bdcd1500-de8a-412d-934f-78bc94b5748d",
   "metadata": {
    "tags": []
   },
   "source": [
    "Escreva um programa que leia o nome e as notas de um aluno, calcule a média e escreva na tela o nome e a sua situação de acordo com quadro abaixo:\n",
    "\n",
    "|Média| Situação|\n",
    "|---  |---      |\n",
    "| $\\geq 7.0$|Aprovado|\n",
    "| $\\geq 4.0$ e $< 7.0$ | Final|\n",
    "|$< 4.0$ | Reprovado|"
   ]
  },
  {
   "cell_type": "code",
   "execution_count": null,
   "id": "fdd0b3c2-5cd7-42f7-ac4f-70b275a039d7",
   "metadata": {},
   "outputs": [],
   "source": []
  },
  {
   "cell_type": "markdown",
   "id": "47280fbd-50f4-4f91-af06-ca76df19a1b5",
   "metadata": {
    "tags": []
   },
   "source": [
    "Desenvolva um programa que receba o valor do salário bruto, calcule e apresente o valor de desconto do INSS e o valor do salário líquido (o salário bruto descontado do INSS), considerando que:\n",
    " - Para um salário de até R\\$ 420,00, o desconto de INSS é de 8%;\n",
    " - Para um salário de até $R\\$ 420,00$ até $R\\$ 1350,00$, o desconto de INSS é de 9%;\n",
    " - Para um salário acima de $R\\$ 1350,00$, o desconto de INSS é de  10%;"
   ]
  },
  {
   "cell_type": "code",
   "execution_count": null,
   "id": "86156cab-8fae-42b9-adf1-b8a98ca1d88b",
   "metadata": {},
   "outputs": [],
   "source": []
  },
  {
   "cell_type": "markdown",
   "id": "ffb0077b-1435-4050-9ed2-a75152ed9266",
   "metadata": {},
   "source": [
    "Faça um jogo de \"Pedra, papel, tesoura\" de um usuário contra o computador, imprimindo se o usuário ganhou, perdeu ou houve um empate contra a máquina. Para isso, gere valores aleatórios utilizando a função `randint` da biblioteca `random`.\n",
    "\n",
    "Dica: represente pedra como 0, papel, 1, e tesoura, 2."
   ]
  },
  {
   "cell_type": "code",
   "execution_count": null,
   "id": "01c95ec0-6e13-4946-957f-04a0268301da",
   "metadata": {
    "tags": []
   },
   "outputs": [],
   "source": [
    "from random import randint"
   ]
  },
  {
   "cell_type": "code",
   "execution_count": null,
   "id": "53191d7b-b616-4872-bff7-0e7cfaf400d8",
   "metadata": {
    "tags": []
   },
   "outputs": [],
   "source": [
    "?randint"
   ]
  },
  {
   "cell_type": "code",
   "execution_count": null,
   "id": "b30f6eeb-8996-4d73-ae96-622a9828eed9",
   "metadata": {},
   "outputs": [],
   "source": []
  },
  {
   "cell_type": "markdown",
   "id": "0d92a786-80bf-4b88-bc46-13232c6e72e6",
   "metadata": {
    "tags": []
   },
   "source": [
    "## 4. Estruturas de repetição\n",
    "\n",
    "### `while`\n",
    "<!-- <div>\n",
    "<img src=\"while.png\" width=\"400\"/>\n",
    "</div> -->\n",
    "![While](figures_1/while.png)\n",
    "\n",
    "\n",
    "Funcionamento:"
   ]
  },
  {
   "cell_type": "code",
   "execution_count": null,
   "id": "4d1cadb4-9ba3-4bb8-8b2b-452ae95e5d75",
   "metadata": {
    "tags": []
   },
   "outputs": [],
   "source": [
    "i = 0\n",
    "\n",
    "while i < 10:\n",
    "    print(i)\n",
    "    i += 1"
   ]
  },
  {
   "cell_type": "markdown",
   "id": "32c645f3-4961-4a0d-b322-1899462b1b8f",
   "metadata": {},
   "source": [
    "Quantas vezes o loop será executado neste caso?"
   ]
  },
  {
   "cell_type": "code",
   "execution_count": null,
   "id": "7cda06e0-e6bf-445b-a250-6059fb3ae4a2",
   "metadata": {
    "tags": []
   },
   "outputs": [],
   "source": [
    "i = 10\n",
    "\n",
    "while i < 10:\n",
    "    print(i)\n",
    "    i += 1"
   ]
  },
  {
   "cell_type": "markdown",
   "id": "eb3f8ef7-652f-46c5-9f8e-2e7974927599",
   "metadata": {},
   "source": [
    "E neste caso?"
   ]
  },
  {
   "cell_type": "code",
   "execution_count": null,
   "id": "b2e42925-c85a-4bd2-a839-afe23a70f85b",
   "metadata": {
    "tags": []
   },
   "outputs": [],
   "source": [
    "i = 0\n",
    "\n",
    "while i < 10:\n",
    "    print(i)"
   ]
  },
  {
   "cell_type": "markdown",
   "id": "5730b931-eded-465b-a3d4-6ce04a2f1754",
   "metadata": {},
   "source": [
    "Faça um algoritmo que solicitará a senha ao usuário enquanto ela não for digitada corretamente. Senha atual: `0123456`.\n",
    "\n",
    "![While_senha](figures_1/while_senha.png)"
   ]
  },
  {
   "cell_type": "code",
   "execution_count": null,
   "id": "31fa20a7-1d0c-4be9-8d7e-d67f3caafba1",
   "metadata": {},
   "outputs": [],
   "source": []
  },
  {
   "cell_type": "markdown",
   "id": "ce42ff9c-e94f-451a-9ac9-f2d487228f7f",
   "metadata": {},
   "source": [
    "Esse programa será utilizado em um banco, e, por motivos de segurança, caso o usuário erre a senha, imprima na tela `Número de tentativas: __`. Se o usuário errar 3 vezes, imprimir na tela `Senha bloqueada`, e finalizar o loop. "
   ]
  },
  {
   "cell_type": "code",
   "execution_count": null,
   "id": "4e583149-2e41-464b-b783-93ff15d75e52",
   "metadata": {},
   "outputs": [],
   "source": []
  },
  {
   "cell_type": "markdown",
   "id": "c720e17e-28ea-4ef3-9fd0-5f0b548dc0af",
   "metadata": {},
   "source": [
    "Escreva um programa que receba **números inteiros positivos** repetidamente e informe se eles são pares ou ímpares. O programa deve ser encerrado quando o usuário digitar o valor -1. Para esse código, utilize os comandos `break` e `continue`."
   ]
  },
  {
   "cell_type": "code",
   "execution_count": null,
   "id": "146ecdd0-cb84-45e6-a5da-03f9b18e9dac",
   "metadata": {},
   "outputs": [],
   "source": []
  },
  {
   "cell_type": "markdown",
   "id": "6044349c-95eb-40e9-b8fd-2072ae536e4a",
   "metadata": {
    "tags": []
   },
   "source": [
    "### `For`\n",
    "\n",
    "![For](figures_1/for.png)\n",
    "Funcionamento"
   ]
  },
  {
   "cell_type": "code",
   "execution_count": null,
   "id": "ba8d80fa-a5cb-4ff7-8b11-c90346ea957b",
   "metadata": {
    "tags": []
   },
   "outputs": [],
   "source": [
    "for i in range(10):\n",
    "    print(i)"
   ]
  },
  {
   "cell_type": "code",
   "execution_count": null,
   "id": "20c3f17e-7cee-4cc4-b74c-821693609758",
   "metadata": {
    "tags": []
   },
   "outputs": [],
   "source": [
    "for i in range(5, 10):\n",
    "    print(i)"
   ]
  },
  {
   "cell_type": "markdown",
   "id": "1ffb9952-bb0a-47e0-a9c1-c831a41ad993",
   "metadata": {},
   "source": [
    "Faça um programa que peça 10 números inteiros, calcule e mostre a quantidade de números pares e a quantidade de números impares a cada iteração conforme a ilustração abaixo:\n",
    "\n",
    "<!-- ![pares_impares](pares_impares.png) -->\n",
    "<div>\n",
    "<img src=\"figures_1/pares_impares.png\" width=\"400\"/>\n",
    "</div>"
   ]
  },
  {
   "cell_type": "code",
   "execution_count": null,
   "id": "ded743e5-44b3-43d9-aaf4-ae515ab6bb6c",
   "metadata": {},
   "outputs": [],
   "source": []
  },
  {
   "cell_type": "markdown",
   "id": "2e2d55b4-d7e3-4276-9f7e-d1efb7571839",
   "metadata": {},
   "source": [
    "## Listas\n",
    "\n",
    "E se vocês tivessem que guardar um registro de duzentos valores informados pelo usuário? Será que seriam necessárias duzentas variáveis?\n",
    " - Além de deselegante, seria bastante prejudicial para a legibilidade do código, e certamente vocês iriam se perder com tanta variável para controlar.\n",
    " - A solução seria a declaração de uma variável que consistisse de um conjunto de valores, armazenados de forma estruturada e organizada.\n",
    "\n",
    "Listas são conjuntos de elementos que podem ser de diferentes tipos. Portanto, são variáveis compostas heterogêneas."
   ]
  },
  {
   "cell_type": "code",
   "execution_count": null,
   "id": "44976fc0-9b59-4e9e-92f6-80498d69d676",
   "metadata": {
    "tags": []
   },
   "outputs": [],
   "source": [
    "coisas = ['Pirrita', 7, 9.5, [22, 'oxe', 45.901, True]]\n",
    "\n",
    "notas = [8.0, 7.0, 9.5]"
   ]
  },
  {
   "cell_type": "markdown",
   "id": "23eac719-d175-4890-8aa1-e0f36121d36d",
   "metadata": {},
   "source": [
    "![lista](figures_1/lista.png)\n",
    "Para acessar os valores da lista, `minha_lista[posição]`. "
   ]
  },
  {
   "cell_type": "code",
   "execution_count": null,
   "id": "0c08afa7-8462-4653-9948-93433322711a",
   "metadata": {},
   "outputs": [],
   "source": []
  },
  {
   "cell_type": "markdown",
   "id": "b17f0b23-2ef2-4ec2-a99b-6b0fecf40ba4",
   "metadata": {},
   "source": [
    "Já para alterar os valores, `minha_lista[posição] = novo_valor`."
   ]
  },
  {
   "cell_type": "code",
   "execution_count": null,
   "id": "b7a703d9-d921-4413-a621-5da5a682ce48",
   "metadata": {},
   "outputs": [],
   "source": []
  },
  {
   "cell_type": "markdown",
   "id": "a9fa0f76-cf39-470a-8860-a050d880e095",
   "metadata": {},
   "source": [
    "Também é possível utilizar índices negativos para acessar os últimos valores da lista:"
   ]
  },
  {
   "cell_type": "code",
   "execution_count": null,
   "id": "20532d7e-af00-4979-aa52-2efb5bf68a47",
   "metadata": {
    "tags": []
   },
   "outputs": [],
   "source": [
    "coisas = ['Pirrita', 7, 9.5, [22, 'oxe', 45.901, True]]"
   ]
  },
  {
   "cell_type": "code",
   "execution_count": null,
   "id": "4df15cfd-6b01-4d7f-903f-d845c9c48df7",
   "metadata": {},
   "outputs": [],
   "source": []
  },
  {
   "cell_type": "markdown",
   "id": "003e1915-dba3-4867-9d1a-4a59bb8c741f",
   "metadata": {},
   "source": [
    "Há 3 alunos na sala. Faça um programa que colete as notas da sala, armazene em uma lista, e calcule a média da turma."
   ]
  },
  {
   "cell_type": "code",
   "execution_count": null,
   "id": "58f5bed0-9dc5-496d-8ba1-c2f349658dca",
   "metadata": {},
   "outputs": [],
   "source": []
  },
  {
   "cell_type": "markdown",
   "id": "c44092e8-9425-41a9-9e2a-a2fe2a188fb1",
   "metadata": {},
   "source": [
    "Não se sabe quantos alunos a turma possui. Utilize o método `append` do tipo `list` para armazenar as notas da turma em uma lista e, após isso, calcule a média da turma."
   ]
  },
  {
   "cell_type": "code",
   "execution_count": null,
   "id": "e12fe078-2fc2-4e7d-ac45-ae29eab73692",
   "metadata": {},
   "outputs": [],
   "source": []
  },
  {
   "cell_type": "markdown",
   "id": "85ca1e1c-d4ef-4fac-8637-f5a4e87a4b52",
   "metadata": {},
   "source": [
    "Dado uma lista de strings, imprima todas as strings com a quantidade de caracteres respectiva utilizando `for`."
   ]
  },
  {
   "cell_type": "code",
   "execution_count": null,
   "id": "17d12333-08f5-4c1c-9c46-44cb2f79a9e7",
   "metadata": {
    "tags": []
   },
   "outputs": [],
   "source": [
    "top_dez_filmes_populares_imdb = ['Um Sonho de Liberdade', 'O Poderoso Chefão', 'Batman: O Cavaleiro das Trevas', 'O Poderoso Chefão II', '12 Homens e uma Sentença', 'A Lista de Schindler', 'O Senhor dos Anéis: O Retorno do Rei', 'Pulp Fiction - Tempos de Violência', 'O senhor dos Anéis: A Sociedade do Anel', 'Três Homens em Conflito']"
   ]
  },
  {
   "cell_type": "code",
   "execution_count": null,
   "id": "d1f7e252-b32e-4528-89ac-5bed9c6553c9",
   "metadata": {},
   "outputs": [],
   "source": []
  }
 ],
 "metadata": {
  "kernelspec": {
   "display_name": "Python 3 (ipykernel)",
   "language": "python",
   "name": "python3"
  },
  "language_info": {
   "codemirror_mode": {
    "name": "ipython",
    "version": 3
   },
   "file_extension": ".py",
   "mimetype": "text/x-python",
   "name": "python",
   "nbconvert_exporter": "python",
   "pygments_lexer": "ipython3",
   "version": "3.11.4"
  }
 },
 "nbformat": 4,
 "nbformat_minor": 5
}
