{
 "cells": [
  {
   "cell_type": "markdown",
   "id": "ccc6d671-7268-47b8-9004-d4ac265f7f1c",
   "metadata": {},
   "source": [
    "# Algoritmos Heurísticos e Mta-Heurísticas para Problemas de Otimização\n",
    "\n",
    "Implementação de heurísticas para resolução de problema de escalonamento."
   ]
  },
  {
   "cell_type": "markdown",
   "id": "35891183-1d8d-4a9d-9479-40c75be056a8",
   "metadata": {},
   "source": [
    "# Problema de Escalonamento em Máquinas Paralelas (PEMP)\n",
    "\n",
    "Problemas onde há uma quantidade de tarefas a serem processadas pelas máquinas. Cada tarefa precisa ser processada uma única vez, e pode ser processada em qualquer máquina.\n",
    "\n",
    "![pmsp](./figures_2/pmsp.png)"
   ]
  },
  {
   "cell_type": "markdown",
   "id": "69c2c532-5f1b-4aff-9f64-efb392dd29e3",
   "metadata": {
    "tags": []
   },
   "source": [
    "## Representação da solução\n",
    "\n",
    "Para garantir o sucesso e facilitar a implementação de uma heurística, a escolha da representação da solução desempenha um papel fundamental. No contexto do Problema de Escalonamento em Máquinas Paralelas (PEMP) abordado aqui, a solução pode ser adequadamente representada por meio de um vetor. Nesse vetor, cada posição representa uma tarefa, e o valor contido em cada posição indica a máquina sugerida para alocar essa tarefa. \n",
    "\n",
    "Por exemplo:\n",
    "\n",
    "\\begin{bmatrix}\n",
    "    1 & 0 & 0 & 1 & 0\n",
    "\\end{bmatrix}\n",
    "\n",
    "Representa a solução \n",
    "\n",
    "![](./figures_2/pmsp_solution.png)\n",
    "\n",
    "<font color='red'> OBS: Para o presente problema, não faz diferença a ordem de processamento das tarefas, apenas em qual máquina elas estão alocadas. </font>"
   ]
  },
  {
   "cell_type": "markdown",
   "id": "91de651d-9c66-4bfa-8cef-95c3346756a9",
   "metadata": {
    "tags": []
   },
   "source": [
    "## Geração de instância aleatória\n",
    "\n",
    "Desenvolva um algoritmo capaz de gerar uma matriz aleatória que represente a duração do processamento $p_{ij}$ de cada uma das $i$ tarefas em relação a cada uma das $j$ máquinas, com base nas quantidades especificadas de tarefas e máquinas.\n",
    "\n",
    "Para facilitar a compreensão, consideremos o exemplo da matriz abaixo, onde $p_{32}$ representa o tempo de processamento da tarefa $3$ na máquina $2$ e tem o valor de $20$ unidades de tempo:\n",
    "\n",
    "\\begin{align}\n",
    "\\begin{bmatrix}\n",
    "8 & 10 \\\\\n",
    "9 & 11 \\\\\n",
    "5 & 20\n",
    "\\end{bmatrix}\n",
    "\\end{align}\n",
    "\n",
    "Você pode utilizar a função `np.random.randint` para criar essa matriz, sendo o intervalo utilizado $[5, 20)$ para gerar a duração das tarefas."
   ]
  },
  {
   "cell_type": "code",
   "execution_count": 1,
   "id": "bd96548d-647e-4bd5-8837-315b6c63d737",
   "metadata": {
    "tags": []
   },
   "outputs": [],
   "source": [
    "import numpy as np\n",
    "import random\n",
    "\n",
    "num_tarefas = 5\n",
    "num_maquinas = 3\n",
    "\n",
    "duracao_minima = 5\n",
    "duracao_maxima = 20\n",
    "\n",
    "np.random.seed(310)\n",
    "duracao_processamento = np.random.randint(duracao_minima, duracao_maxima, (num_tarefas, num_maquinas))"
   ]
  },
  {
   "cell_type": "markdown",
   "id": "5822257e-69ab-4797-96ec-7e672b6896d7",
   "metadata": {},
   "source": [
    "## Criação de Instância \n",
    "\n",
    "Crie uma classe que armazene os dados da instância para ser utilizado em funções."
   ]
  },
  {
   "cell_type": "code",
   "execution_count": 2,
   "id": "8d8a0942-6186-4779-9872-df8c6ec9840d",
   "metadata": {
    "tags": []
   },
   "outputs": [],
   "source": [
    "class Instancia:\n",
    "    def __init__(self, num_tarefas, num_maquinas, processamento):\n",
    "        self.num_tarefas = num_tarefas\n",
    "        self.num_maquinas = num_maquinas\n",
    "        self.processamento = processamento\n",
    "\n",
    "instancia_1 = Instancia(num_tarefas, num_maquinas, duracao_processamento)"
   ]
  },
  {
   "cell_type": "markdown",
   "id": "f49b08c7-d0a5-4daa-bea1-5ae7db92413f",
   "metadata": {
    "tags": []
   },
   "source": [
    "## Funções para soluções\n",
    "\n",
    "Declare funções que:\n",
    "- Gere solução vazia `gerar_solucao_vazia(instancia)`\n",
    "- Gere solução aleatória `gerar_solucao_aleatoria(instancia)`\n",
    "- Copie uma solução para outra já declarada `copiar_solucao(solucao_destino, solucao_origem)`"
   ]
  },
  {
   "cell_type": "code",
   "execution_count": 3,
   "id": "95ade185-be52-4c88-a701-2cfc01e7c47e",
   "metadata": {
    "tags": []
   },
   "outputs": [],
   "source": [
    "# Solução vazia\n",
    "def gerar_solucao_vazia(instancia):\n",
    "    return np.zeros(instancia.num_tarefas, int) "
   ]
  },
  {
   "cell_type": "code",
   "execution_count": 4,
   "id": "476922f2-2c53-4b81-949d-e5a9b19ec043",
   "metadata": {
    "tags": []
   },
   "outputs": [],
   "source": [
    "# Solução aleatória\n",
    "def gerar_solucao_aleatoria(instancia):\n",
    "    return np.random.randint(0, instancia.num_maquinas, instancia.num_tarefas)"
   ]
  },
  {
   "cell_type": "code",
   "execution_count": 5,
   "id": "c0d14d9e-2361-4720-8506-96dcb5beea53",
   "metadata": {
    "tags": []
   },
   "outputs": [],
   "source": [
    "# Copiar solução\n",
    "def copiar_solucao(solucao_destino, solucao_original):\n",
    "    for (i, job) in enumerate(solucao_original):\n",
    "        solucao_destino[i] = job\n",
    "    return solucao_destino"
   ]
  },
  {
   "cell_type": "code",
   "execution_count": 6,
   "id": "f8d3859e-895c-494b-8b7d-bc2820e7e85e",
   "metadata": {
    "tags": []
   },
   "outputs": [
    {
     "data": {
      "text/plain": [
       "array([1, 0, 0, 1, 1])"
      ]
     },
     "execution_count": 6,
     "metadata": {},
     "output_type": "execute_result"
    }
   ],
   "source": [
    "# Teste\n",
    "np.random.seed(1)\n",
    "s1 = gerar_solucao_aleatoria(instancia_1)\n",
    "s1"
   ]
  },
  {
   "cell_type": "markdown",
   "id": "3f68d6a7-c157-49a9-bf30-f13f1b02d37d",
   "metadata": {},
   "source": [
    "## Objetivo: minimizar o somatório das durações\n",
    "\n",
    "Implemente um código para calcular a função objetivo. Sugestão: utilize as funções `enumerate` e `sum`.\n",
    "\n",
    "<!-- `enumerate` `sum` -->"
   ]
  },
  {
   "cell_type": "code",
   "execution_count": 7,
   "id": "35b30248-a75d-4541-aea9-0341b4c2d2e3",
   "metadata": {
    "tags": []
   },
   "outputs": [
    {
     "name": "stdout",
     "output_type": "stream",
     "text": [
      "tarefa=0, maquina=1\n",
      "tarefa=1, maquina=0\n",
      "tarefa=2, maquina=0\n",
      "tarefa=3, maquina=1\n",
      "tarefa=4, maquina=1\n"
     ]
    }
   ],
   "source": [
    "for (i, j) in enumerate(s1):\n",
    "    print(f'tarefa={i}, maquina={j}')"
   ]
  },
  {
   "cell_type": "code",
   "execution_count": 8,
   "id": "79b6d9f6-fe00-4fa2-a7eb-d14ca54cffab",
   "metadata": {
    "tags": []
   },
   "outputs": [],
   "source": [
    "def calcular_tempo_total(solucao, instancia):\n",
    "    resultado = sum(instancia.processamento[i, j] for (i, j) in enumerate(solucao))\n",
    "    return resultado"
   ]
  },
  {
   "cell_type": "code",
   "execution_count": 9,
   "id": "deec4bf0-6872-4db2-bc68-6a38a4660624",
   "metadata": {
    "tags": []
   },
   "outputs": [
    {
     "data": {
      "text/plain": [
       "68"
      ]
     },
     "execution_count": 9,
     "metadata": {},
     "output_type": "execute_result"
    }
   ],
   "source": [
    "calcular_tempo_total(s1, instancia_1)"
   ]
  },
  {
   "cell_type": "markdown",
   "id": "1655b002-e669-4039-a46e-e875d0fac0fd",
   "metadata": {},
   "source": [
    "## 1. Simulated Annealing (SA)"
   ]
  },
  {
   "cell_type": "markdown",
   "id": "8f596938-05b2-49f3-81c6-05ce9347b757",
   "metadata": {},
   "source": [
    "### Parâmetros\n",
    "\n",
    "O algoritmo SA envolve a consideração de parâmetros significativos para seu funcionamento. Dentre eles:\n",
    "- $T_0$: temperatura inicial;\n",
    "- $T_l$: limite inferior de temperatura;\n",
    "- $L$: quantidade máxima de iterações;\n",
    "- $f(T)=c \\, T$: função que representa a taxa de diminuição da temperatura a cada iteração. \n",
    "\n",
    "Implemente uma classe que contenha esses dados. OBS: armazene apenas `c` no último parâmetro."
   ]
  },
  {
   "cell_type": "code",
   "execution_count": 10,
   "id": "6494fb34-f05a-437d-af22-1e8807e3c848",
   "metadata": {
    "tags": []
   },
   "outputs": [],
   "source": [
    "class ParametrosSA:\n",
    "    def __init__(self, T_init, Tl, L, c):\n",
    "        self.temperatura_inicial = T_init\n",
    "        self.temperatura_inferior = Tl\n",
    "        self.max_iteracoes = L\n",
    "        self.taxa_diminuicao = c"
   ]
  },
  {
   "cell_type": "markdown",
   "id": "8fd6d965-7606-4072-9039-3943b369cf64",
   "metadata": {
    "tags": []
   },
   "source": [
    "### Estruturas de Vizinhança\n",
    "\n",
    "Existem várias abordagens para realizar movimentos entre soluções a fim de encontrar soluções melhores. Para ilustração da estrutura de vizinhaça adotada, considere a seguinte solução, onde temos 2 máquinas e 5 tarefas.\n",
    "\n",
    "<!-- \\begin{bmatrix}\n",
    "1 & 0 & 1 & 0 & 0\n",
    "\\end{bmatrix} -->\n",
    "\n",
    "![vizinho_1](./figures_2/vizinhanca_1.png)\n",
    "\n",
    "Uma solução vizinha poderia ser qualquer solução obtida através da realocação de qualquer tarefa para outra máquina, como:\n",
    "\n",
    "<!-- \\begin{bmatrix}\n",
    "1 & 0 & 1 & 0 & 1\n",
    "\\end{bmatrix} -->\n",
    "\n",
    "![vizinho_2](./figures_2/vizinhanca_2.png)\n",
    "\n",
    "Desenvolva uma estrutura de vizinhança que seja capaz de escolher, de forma aleatória, uma solução vizinha a partir da solução original. Nessa estrutura, a operação fundamental envolve a troca da máquina à qual uma tarefa está alocada por outra máquina. "
   ]
  },
  {
   "cell_type": "code",
   "execution_count": 11,
   "id": "25b08da8-2833-4cdf-ba7a-64f1a3d4771e",
   "metadata": {
    "tags": []
   },
   "outputs": [],
   "source": [
    "# Troca por vizinhos aleatórios\n",
    "def escolher_vizinho_aleatorio(solucao_copia, solucao_original, instancia):\n",
    "    copiar_solucao(solucao_copia, solucao_original)\n",
    "    realizar_troca_aleatoria(solucao_copia, instancia)\n",
    "    return solucao_copia"
   ]
  },
  {
   "cell_type": "code",
   "execution_count": 12,
   "id": "91b9c08d-e32f-4746-8f3c-6875f0bb11ec",
   "metadata": {
    "tags": []
   },
   "outputs": [],
   "source": [
    "def realizar_troca_aleatoria(solucao, instancia):\n",
    "    tarefa_escolhida = np.random.randint(instancia.num_tarefas)\n",
    "    maquina_escolhida = solucao[tarefa_escolhida]\n",
    "    while solucao[tarefa_escolhida] == maquina_escolhida:\n",
    "        maquina_escolhida = np.random.randint(instancia.num_maquinas)\n",
    "    solucao[tarefa_escolhida] = maquina_escolhida\n",
    "    return solucao"
   ]
  },
  {
   "cell_type": "markdown",
   "id": "e4f3d0f1-bec6-4b7d-9d0a-c21103dbb1e1",
   "metadata": {
    "tags": []
   },
   "source": [
    "### Implementação\n",
    "Implemente o SA se baseando no pseudocódigo abaixo:\n",
    "\n",
    "![sa](./figures_2/sa.png)"
   ]
  },
  {
   "cell_type": "code",
   "execution_count": 13,
   "id": "a3d16719-c6e1-45ed-a4c7-951d8bbb61e2",
   "metadata": {
    "tags": []
   },
   "outputs": [],
   "source": [
    "import random\n",
    "import math\n",
    "\n",
    "def simulated_annealing(instancia, parametros, f = calcular_tempo_total):    \n",
    "    T = parametros.temperatura_inicial\n",
    "    \n",
    "    solucao_atual = gerar_solucao_aleatoria(instancia)\n",
    "    solucao_melhor = solucao_atual.copy()\n",
    "    solucao_auxiliar = gerar_solucao_vazia(instancia)\n",
    "    while T > parametros.temperatura_inferior:\n",
    "        for k in range(parametros.max_iteracoes):\n",
    "            escolher_vizinho_aleatorio(solucao_auxiliar, solucao_atual, instancia)            \n",
    "            sentido = f(solucao_auxiliar, instancia) - f(solucao_atual, instancia)\n",
    "            if sentido <= 0:\n",
    "                copiar_solucao(solucao_atual, solucao_auxiliar)                \n",
    "                if f(solucao_atual, instancia) < f(solucao_melhor, instancia):\n",
    "                    copiar_solucao(solucao_melhor, solucao_atual)\n",
    "                    \n",
    "            elif random.random() < math.exp(-sentido/T):\n",
    "                copiar_solucao(solucao_atual, solucao_auxiliar)\n",
    "        T *= parametros.taxa_diminuicao\n",
    "    return solucao_melhor, f(solucao_melhor, instancia)"
   ]
  },
  {
   "cell_type": "code",
   "execution_count": 14,
   "id": "d6071a1e-6421-429d-880d-a1b1f818671d",
   "metadata": {
    "tags": []
   },
   "outputs": [
    {
     "data": {
      "text/plain": [
       "(array([0, 1, 0, 0, 2]), 39)"
      ]
     },
     "execution_count": 14,
     "metadata": {},
     "output_type": "execute_result"
    }
   ],
   "source": [
    "parametros = ParametrosSA(100, 20, 40, 0.9)\n",
    "simulated_annealing(instancia_1, parametros)"
   ]
  },
  {
   "cell_type": "markdown",
   "id": "6230c6a3-be69-4fb5-9eb7-d9dd2fc1d368",
   "metadata": {},
   "source": [
    "## 2. Algoritmos Genéticos (AG)"
   ]
  },
  {
   "cell_type": "markdown",
   "id": "0af9b764-6b34-4ef2-8071-ec49cdd3c94a",
   "metadata": {},
   "source": [
    "## Parâmetros\n",
    "\n",
    "Assim como o SA, os AG dependem de diversos parâmetros para sua execução. Armazene em uma classe os seguintes parâmetros:\n",
    "- Tamanho da população;\n",
    "- Taxa de mutação (valor entre 0 e 1);\n",
    "- Número de gerações."
   ]
  },
  {
   "cell_type": "code",
   "execution_count": 15,
   "id": "e00e5f3d-a4d0-4a08-8f15-68903f68fd0b",
   "metadata": {
    "tags": []
   },
   "outputs": [],
   "source": [
    "class ParametrosGA:\n",
    "    def __init__(self, tamanho_populacao, num_geracoes, taxa_mutacao=0.01):\n",
    "        self.tamanho_populacao = tamanho_populacao\n",
    "        self.taxa_mutacao = taxa_mutacao\n",
    "        self.num_geracoes = num_geracoes"
   ]
  },
  {
   "cell_type": "code",
   "execution_count": 16,
   "id": "34cdb2fc-c0b8-4654-9cec-51a855adb319",
   "metadata": {
    "tags": []
   },
   "outputs": [],
   "source": [
    "parametros_ga = ParametrosGA(10, 100, taxa_mutacao=0.1)"
   ]
  },
  {
   "cell_type": "markdown",
   "id": "0c52d140-6194-4c28-adf6-017f9637c7cb",
   "metadata": {},
   "source": [
    "### População aleatória\n",
    "\n",
    "Crie uma função que, fazendo uso da função já declarada para gerar soluções aleatórias, seja responsável por gerar uma população de soluções com base nos parâmetros previamente definidos. Uma sugestão seria nomear essa função como `gerar_populacao_aleatoria(instancia, parametros)`."
   ]
  },
  {
   "cell_type": "code",
   "execution_count": 17,
   "id": "bc74ec14-c457-4d30-bc61-c6193df7c672",
   "metadata": {
    "tags": []
   },
   "outputs": [],
   "source": [
    "def gerar_populacao_aleatoria(instancia, parametros):\n",
    "    return [gerar_solucao_aleatoria(instancia) for i in range(parametros.tamanho_populacao)]"
   ]
  },
  {
   "cell_type": "markdown",
   "id": "8e55324c-f622-42b5-b44a-3913d02cb202",
   "metadata": {},
   "source": [
    "### Seleção por Roleta\n",
    "\n",
    "A seleção adotada para o presente minicurso é a seleção por roleta. Implemente uma solução que, ao receber uma população e sua adaptabilidade, seja capaz de selecionar e retornar uma solução com base na probabilidade estabelecida pela fórmula abaixo: \n",
    "\n",
    "$$P(s_i) = 1 - \\frac{f(s_i)}{\\sum_{j=1}^{N} f(s_j)}$$\n",
    "\n",
    "Sugestão: antes de prosseguir com a implementação da seleção por roleta, é aconselhável criar uma função que calcule a adaptabilidade de toda a população."
   ]
  },
  {
   "cell_type": "code",
   "execution_count": 18,
   "id": "77a73ea1-f0c8-4cd2-9330-ea466b1bb342",
   "metadata": {
    "tags": []
   },
   "outputs": [],
   "source": [
    "def avaliar_adaptabilidade_populacao(populacao, instancia):\n",
    "    return np.array([calcular_tempo_total(solucao, instancia) for solucao in populacao])"
   ]
  },
  {
   "cell_type": "code",
   "execution_count": 19,
   "id": "f96a870f-1687-4aaf-8d58-3a852d079a62",
   "metadata": {
    "tags": []
   },
   "outputs": [],
   "source": [
    "def selecionar_por_roleta(populacao, adaptabilidade):\n",
    "    total = sum(adaptabilidade)\n",
    "    probabilidade = [(1 - obj_i / total) for obj_i in adaptabilidade]\n",
    "    return random.choices(populacao, probabilidade)[0]"
   ]
  },
  {
   "cell_type": "markdown",
   "id": "d8c55945-dbf2-4287-b1ec-905db24dae5e",
   "metadata": {
    "tags": []
   },
   "source": [
    "### Cruzamento em Um Ponto\n",
    "\n",
    "Implemente o cruzamento em um ponto `cruzar(filho, pai_1, pai_2)`. Exemplo:\n",
    "\n",
    "![cruzamento](./figures_2/cruzamento.png)\n",
    "\n",
    "<!-- Seja o Pai 1 representado pelo vetor abaixo:\n",
    "\\begin{bmatrix}\n",
    "    1 & 0 & 0 & 0 & 0\n",
    "\\end{bmatrix}\n",
    "\n",
    "E o Pai 2, pelo vetor:\n",
    "\\begin{bmatrix}\n",
    "    0 & 1 & 0 & 1 & 1\n",
    "\\end{bmatrix}\n",
    "\n",
    "Se o ponto selecionado aleatoriamente for 3, então o filho será:\n",
    "\\begin{bmatrix}\n",
    "    1 & 0 & 0 & 1 & 1\n",
    "\\end{bmatrix} -->"
   ]
  },
  {
   "cell_type": "code",
   "execution_count": 20,
   "id": "52f70145-de68-4b1c-917e-cb5160962faa",
   "metadata": {
    "tags": []
   },
   "outputs": [],
   "source": [
    "def cruzar(filho, pai_1, pai_2):\n",
    "    num_tarefas = len(pai_1)\n",
    "    posicao = np.random.randint(num_tarefas)\n",
    "    for i in range(num_tarefas):\n",
    "        filho[i] = pai_1[i] if i < posicao else pai_2[i]\n",
    "    return filho"
   ]
  },
  {
   "cell_type": "markdown",
   "id": "628d1230-d7ad-4270-8191-509f6f3168e5",
   "metadata": {},
   "source": [
    "### Mutação\n",
    "\n",
    "Implemente a mutação que que realiza trocas aleatórias, como na estrutura de vizinhança do SA, com a frequência controlada pelo parâmetro previamente definido."
   ]
  },
  {
   "cell_type": "code",
   "execution_count": 21,
   "id": "14a48f0f-fc9a-4534-ae21-81867afd0f48",
   "metadata": {
    "tags": []
   },
   "outputs": [],
   "source": [
    "def mutar(filho, instancia, parametros):\n",
    "    if random.random() < parametros.taxa_mutacao:\n",
    "        realizar_troca_aleatoria(filho, instancia)\n",
    "    return filho"
   ]
  },
  {
   "cell_type": "markdown",
   "id": "154ade7e-96fb-4651-8892-cdbdb7b231be",
   "metadata": {},
   "source": [
    "### Algoritmo"
   ]
  },
  {
   "cell_type": "code",
   "execution_count": 22,
   "id": "35b79fc0-cf62-444f-b5fa-5abdff03f646",
   "metadata": {
    "tags": []
   },
   "outputs": [],
   "source": [
    "def genetic_algorithm(instancia, parametros):\n",
    "    populacao = gerar_populacao_aleatoria(instancia, parametros)\n",
    "    adaptabilidade = avaliar_adaptabilidade_populacao(populacao, instancia)\n",
    "    \n",
    "    posicao_do_melhor = np.argmin(adaptabilidade)\n",
    "    melhor_solucao = populacao[posicao_do_melhor]\n",
    "    melhor_desempenho = adaptabilidade[posicao_do_melhor]\n",
    "    \n",
    "    for i in range(parametros.num_geracoes):\n",
    "        \n",
    "        nova_populacao = []\n",
    "        for _ in range(parametros.tamanho_populacao):\n",
    "            pai_1 = selecionar_por_roleta(populacao, adaptabilidade)\n",
    "            pai_2 = selecionar_por_roleta(populacao, adaptabilidade)\n",
    "            filho = gerar_solucao_vazia(instancia)\n",
    "            cruzar(filho, pai_1, pai_2)\n",
    "            mutar(filho, instancia, parametros)\n",
    "            nova_populacao.append(filho)\n",
    "        populacao = nova_populacao\n",
    "        adaptabilidade = avaliar_adaptabilidade_populacao(populacao, instancia)\n",
    "        \n",
    "        posicao_do_melhor_gen_i = np.argmin(adaptabilidade)\n",
    "        melhor_solucao_gen_i = populacao[posicao_do_melhor]\n",
    "        melhor_desempenho_gen_i = adaptabilidade[posicao_do_melhor]\n",
    "\n",
    "        if melhor_desempenho_gen_i < melhor_desempenho:\n",
    "            melhor_solucao = melhor_solucao_gen_i\n",
    "            melhor_desempenho = melhor_desempenho_gen_i\n",
    "    return melhor_solucao, melhor_desempenho \n",
    "        "
   ]
  },
  {
   "cell_type": "code",
   "execution_count": 23,
   "id": "857c11f9-8805-4203-97ba-f7fb878bcb1b",
   "metadata": {
    "tags": []
   },
   "outputs": [
    {
     "data": {
      "text/plain": [
       "(array([0, 1, 0, 0, 0]), 40)"
      ]
     },
     "execution_count": 23,
     "metadata": {},
     "output_type": "execute_result"
    }
   ],
   "source": [
    "genetic_algorithm(instancia_1, parametros_ga)"
   ]
  }
 ],
 "metadata": {
  "kernelspec": {
   "display_name": "Python 3 (ipykernel)",
   "language": "python",
   "name": "python3"
  },
  "language_info": {
   "codemirror_mode": {
    "name": "ipython",
    "version": 3
   },
   "file_extension": ".py",
   "mimetype": "text/x-python",
   "name": "python",
   "nbconvert_exporter": "python",
   "pygments_lexer": "ipython3",
   "version": "3.11.4"
  }
 },
 "nbformat": 4,
 "nbformat_minor": 5
}
